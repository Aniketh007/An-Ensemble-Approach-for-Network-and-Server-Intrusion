{
  "nbformat": 4,
  "nbformat_minor": 0,
  "metadata": {
    "colab": {
      "provenance": []
    },
    "kernelspec": {
      "name": "python3",
      "display_name": "Python 3"
    },
    "language_info": {
      "name": "python"
    }
  },
  "cells": [
    {
      "cell_type": "markdown",
      "source": [
        "# ***Imports and CSV read---> Categorical to Numerical type---> Null values removal***"
      ],
      "metadata": {
        "id": "gRjjEJADaTB1"
      }
    },
    {
      "cell_type": "code",
      "execution_count": null,
      "metadata": {
        "id": "KOTXWMMbg-ID"
      },
      "outputs": [],
      "source": [
        "import numpy as np\n",
        "import pandas as pd\n",
        "import seaborn as sns\n",
        "import warnings\n",
        "from sklearn.preprocessing import LabelEncoder, StandardScaler, OneHotEncoder\n",
        "from sklearn.model_selection import train_test_split\n",
        "from sklearn.feature_selection import RFE\n",
        "from sklearn.ensemble import RandomForestClassifier\n",
        "from sklearn.metrics import accuracy_score, classification_report\n",
        "from sklearn.feature_selection import RFE\n",
        "from sklearn.ensemble import RandomForestClassifier\n",
        "from keras.models import Model, Sequential\n",
        "from keras.layers import Input, Conv1D, MaxPooling1D, Flatten, Dense, Dropout, Bidirectional, GRU, concatenate\n",
        "from IPython.display import Image, display\n",
        "import tempfile\n",
        "from tensorflow.keras.utils import plot_model\n",
        "warnings.filterwarnings(\"ignore\")"
      ]
    },
    {
      "cell_type": "code",
      "source": [
        "train = pd.read_csv(r\"/content/Train_data.csv\")"
      ],
      "metadata": {
        "id": "XcbQIInMhBvl"
      },
      "execution_count": null,
      "outputs": []
    },
    {
      "cell_type": "code",
      "source": [
        "from google.colab import drive\n",
        "drive.mount('/content/drive')"
      ],
      "metadata": {
        "colab": {
          "base_uri": "https://localhost:8080/"
        },
        "id": "6ImfD7YchjvR",
        "outputId": "4e18ce3a-fcf6-429d-d9c5-853f5f76e610"
      },
      "execution_count": null,
      "outputs": [
        {
          "output_type": "stream",
          "name": "stdout",
          "text": [
            "Drive already mounted at /content/drive; to attempt to forcibly remount, call drive.mount(\"/content/drive\", force_remount=True).\n"
          ]
        }
      ]
    },
    {
      "cell_type": "code",
      "source": [
        "train.columns"
      ],
      "metadata": {
        "colab": {
          "base_uri": "https://localhost:8080/"
        },
        "id": "iIhjxR73hl-R",
        "outputId": "ee62b71b-cbb6-4929-8fc7-45e7f40489e8"
      },
      "execution_count": null,
      "outputs": [
        {
          "output_type": "execute_result",
          "data": {
            "text/plain": [
              "Index(['duration', 'protocol_type', 'service', 'flag', 'src_bytes',\n",
              "       'dst_bytes', 'land', 'wrong_fragment', 'urgent', 'hot',\n",
              "       'num_failed_logins', 'logged_in', 'num_compromised', 'root_shell',\n",
              "       'su_attempted', 'num_root', 'num_file_creations', 'num_shells',\n",
              "       'num_access_files', 'num_outbound_cmds', 'is_host_login',\n",
              "       'is_guest_login', 'count', 'srv_count', 'serror_rate',\n",
              "       'srv_serror_rate', 'rerror_rate', 'srv_rerror_rate', 'same_srv_rate',\n",
              "       'diff_srv_rate', 'srv_diff_host_rate', 'dst_host_count',\n",
              "       'dst_host_srv_count', 'dst_host_same_srv_rate',\n",
              "       'dst_host_diff_srv_rate', 'dst_host_same_src_port_rate',\n",
              "       'dst_host_srv_diff_host_rate', 'dst_host_serror_rate',\n",
              "       'dst_host_srv_serror_rate', 'dst_host_rerror_rate',\n",
              "       'dst_host_srv_rerror_rate', 'class'],\n",
              "      dtype='object')"
            ]
          },
          "metadata": {},
          "execution_count": 4
        }
      ]
    },
    {
      "cell_type": "code",
      "source": [
        "train"
      ],
      "metadata": {
        "colab": {
          "base_uri": "https://localhost:8080/",
          "height": 444
        },
        "id": "5Tt5tnvnhs1S",
        "outputId": "be61ac3a-7311-466a-f450-818c9da8bf71"
      },
      "execution_count": null,
      "outputs": [
        {
          "output_type": "execute_result",
          "data": {
            "text/plain": [
              "       duration protocol_type   service  flag  src_bytes  dst_bytes  land  \\\n",
              "0             0           tcp  ftp_data    SF        491          0     0   \n",
              "1             0           udp     other    SF        146          0     0   \n",
              "2             0           tcp   private    S0          0          0     0   \n",
              "3             0           tcp      http    SF        232       8153     0   \n",
              "4             0           tcp      http    SF        199        420     0   \n",
              "...         ...           ...       ...   ...        ...        ...   ...   \n",
              "25187         0           tcp      exec  RSTO          0          0     0   \n",
              "25188         0           tcp  ftp_data    SF        334          0     0   \n",
              "25189         0           tcp   private   REJ          0          0     0   \n",
              "25190         0           tcp      nnsp    S0          0          0     0   \n",
              "25191         0           tcp    finger    S0          0          0     0   \n",
              "\n",
              "       wrong_fragment  urgent  hot  ...  dst_host_srv_count  \\\n",
              "0                   0       0    0  ...                  25   \n",
              "1                   0       0    0  ...                   1   \n",
              "2                   0       0    0  ...                  26   \n",
              "3                   0       0    0  ...                 255   \n",
              "4                   0       0    0  ...                 255   \n",
              "...               ...     ...  ...  ...                 ...   \n",
              "25187               0       0    0  ...                   7   \n",
              "25188               0       0    0  ...                  39   \n",
              "25189               0       0    0  ...                  13   \n",
              "25190               0       0    0  ...                  20   \n",
              "25191               0       0    0  ...                  49   \n",
              "\n",
              "       dst_host_same_srv_rate  dst_host_diff_srv_rate  \\\n",
              "0                        0.17                    0.03   \n",
              "1                        0.00                    0.60   \n",
              "2                        0.10                    0.05   \n",
              "3                        1.00                    0.00   \n",
              "4                        1.00                    0.00   \n",
              "...                       ...                     ...   \n",
              "25187                    0.03                    0.06   \n",
              "25188                    1.00                    0.00   \n",
              "25189                    0.05                    0.07   \n",
              "25190                    0.08                    0.06   \n",
              "25191                    0.19                    0.03   \n",
              "\n",
              "       dst_host_same_src_port_rate  dst_host_srv_diff_host_rate  \\\n",
              "0                             0.17                         0.00   \n",
              "1                             0.88                         0.00   \n",
              "2                             0.00                         0.00   \n",
              "3                             0.03                         0.04   \n",
              "4                             0.00                         0.00   \n",
              "...                            ...                          ...   \n",
              "25187                         0.00                         0.00   \n",
              "25188                         1.00                         0.18   \n",
              "25189                         0.00                         0.00   \n",
              "25190                         0.00                         0.00   \n",
              "25191                         0.01                         0.00   \n",
              "\n",
              "       dst_host_serror_rate  dst_host_srv_serror_rate  dst_host_rerror_rate  \\\n",
              "0                      0.00                      0.00                  0.05   \n",
              "1                      0.00                      0.00                  0.00   \n",
              "2                      1.00                      1.00                  0.00   \n",
              "3                      0.03                      0.01                  0.00   \n",
              "4                      0.00                      0.00                  0.00   \n",
              "...                     ...                       ...                   ...   \n",
              "25187                  0.00                      0.00                  1.00   \n",
              "25188                  0.00                      0.00                  0.00   \n",
              "25189                  0.00                      0.00                  1.00   \n",
              "25190                  1.00                      1.00                  0.00   \n",
              "25191                  1.00                      1.00                  0.00   \n",
              "\n",
              "       dst_host_srv_rerror_rate    class  \n",
              "0                          0.00   normal  \n",
              "1                          0.00   normal  \n",
              "2                          0.00  anomaly  \n",
              "3                          0.01   normal  \n",
              "4                          0.00   normal  \n",
              "...                         ...      ...  \n",
              "25187                      1.00  anomaly  \n",
              "25188                      0.00  anomaly  \n",
              "25189                      1.00  anomaly  \n",
              "25190                      0.00  anomaly  \n",
              "25191                      0.00  anomaly  \n",
              "\n",
              "[25192 rows x 42 columns]"
            ],
            "text/html": [
              "\n",
              "  <div id=\"df-76fb8243-8e3a-4901-8db3-5faed8571df3\" class=\"colab-df-container\">\n",
              "    <div>\n",
              "<style scoped>\n",
              "    .dataframe tbody tr th:only-of-type {\n",
              "        vertical-align: middle;\n",
              "    }\n",
              "\n",
              "    .dataframe tbody tr th {\n",
              "        vertical-align: top;\n",
              "    }\n",
              "\n",
              "    .dataframe thead th {\n",
              "        text-align: right;\n",
              "    }\n",
              "</style>\n",
              "<table border=\"1\" class=\"dataframe\">\n",
              "  <thead>\n",
              "    <tr style=\"text-align: right;\">\n",
              "      <th></th>\n",
              "      <th>duration</th>\n",
              "      <th>protocol_type</th>\n",
              "      <th>service</th>\n",
              "      <th>flag</th>\n",
              "      <th>src_bytes</th>\n",
              "      <th>dst_bytes</th>\n",
              "      <th>land</th>\n",
              "      <th>wrong_fragment</th>\n",
              "      <th>urgent</th>\n",
              "      <th>hot</th>\n",
              "      <th>...</th>\n",
              "      <th>dst_host_srv_count</th>\n",
              "      <th>dst_host_same_srv_rate</th>\n",
              "      <th>dst_host_diff_srv_rate</th>\n",
              "      <th>dst_host_same_src_port_rate</th>\n",
              "      <th>dst_host_srv_diff_host_rate</th>\n",
              "      <th>dst_host_serror_rate</th>\n",
              "      <th>dst_host_srv_serror_rate</th>\n",
              "      <th>dst_host_rerror_rate</th>\n",
              "      <th>dst_host_srv_rerror_rate</th>\n",
              "      <th>class</th>\n",
              "    </tr>\n",
              "  </thead>\n",
              "  <tbody>\n",
              "    <tr>\n",
              "      <th>0</th>\n",
              "      <td>0</td>\n",
              "      <td>tcp</td>\n",
              "      <td>ftp_data</td>\n",
              "      <td>SF</td>\n",
              "      <td>491</td>\n",
              "      <td>0</td>\n",
              "      <td>0</td>\n",
              "      <td>0</td>\n",
              "      <td>0</td>\n",
              "      <td>0</td>\n",
              "      <td>...</td>\n",
              "      <td>25</td>\n",
              "      <td>0.17</td>\n",
              "      <td>0.03</td>\n",
              "      <td>0.17</td>\n",
              "      <td>0.00</td>\n",
              "      <td>0.00</td>\n",
              "      <td>0.00</td>\n",
              "      <td>0.05</td>\n",
              "      <td>0.00</td>\n",
              "      <td>normal</td>\n",
              "    </tr>\n",
              "    <tr>\n",
              "      <th>1</th>\n",
              "      <td>0</td>\n",
              "      <td>udp</td>\n",
              "      <td>other</td>\n",
              "      <td>SF</td>\n",
              "      <td>146</td>\n",
              "      <td>0</td>\n",
              "      <td>0</td>\n",
              "      <td>0</td>\n",
              "      <td>0</td>\n",
              "      <td>0</td>\n",
              "      <td>...</td>\n",
              "      <td>1</td>\n",
              "      <td>0.00</td>\n",
              "      <td>0.60</td>\n",
              "      <td>0.88</td>\n",
              "      <td>0.00</td>\n",
              "      <td>0.00</td>\n",
              "      <td>0.00</td>\n",
              "      <td>0.00</td>\n",
              "      <td>0.00</td>\n",
              "      <td>normal</td>\n",
              "    </tr>\n",
              "    <tr>\n",
              "      <th>2</th>\n",
              "      <td>0</td>\n",
              "      <td>tcp</td>\n",
              "      <td>private</td>\n",
              "      <td>S0</td>\n",
              "      <td>0</td>\n",
              "      <td>0</td>\n",
              "      <td>0</td>\n",
              "      <td>0</td>\n",
              "      <td>0</td>\n",
              "      <td>0</td>\n",
              "      <td>...</td>\n",
              "      <td>26</td>\n",
              "      <td>0.10</td>\n",
              "      <td>0.05</td>\n",
              "      <td>0.00</td>\n",
              "      <td>0.00</td>\n",
              "      <td>1.00</td>\n",
              "      <td>1.00</td>\n",
              "      <td>0.00</td>\n",
              "      <td>0.00</td>\n",
              "      <td>anomaly</td>\n",
              "    </tr>\n",
              "    <tr>\n",
              "      <th>3</th>\n",
              "      <td>0</td>\n",
              "      <td>tcp</td>\n",
              "      <td>http</td>\n",
              "      <td>SF</td>\n",
              "      <td>232</td>\n",
              "      <td>8153</td>\n",
              "      <td>0</td>\n",
              "      <td>0</td>\n",
              "      <td>0</td>\n",
              "      <td>0</td>\n",
              "      <td>...</td>\n",
              "      <td>255</td>\n",
              "      <td>1.00</td>\n",
              "      <td>0.00</td>\n",
              "      <td>0.03</td>\n",
              "      <td>0.04</td>\n",
              "      <td>0.03</td>\n",
              "      <td>0.01</td>\n",
              "      <td>0.00</td>\n",
              "      <td>0.01</td>\n",
              "      <td>normal</td>\n",
              "    </tr>\n",
              "    <tr>\n",
              "      <th>4</th>\n",
              "      <td>0</td>\n",
              "      <td>tcp</td>\n",
              "      <td>http</td>\n",
              "      <td>SF</td>\n",
              "      <td>199</td>\n",
              "      <td>420</td>\n",
              "      <td>0</td>\n",
              "      <td>0</td>\n",
              "      <td>0</td>\n",
              "      <td>0</td>\n",
              "      <td>...</td>\n",
              "      <td>255</td>\n",
              "      <td>1.00</td>\n",
              "      <td>0.00</td>\n",
              "      <td>0.00</td>\n",
              "      <td>0.00</td>\n",
              "      <td>0.00</td>\n",
              "      <td>0.00</td>\n",
              "      <td>0.00</td>\n",
              "      <td>0.00</td>\n",
              "      <td>normal</td>\n",
              "    </tr>\n",
              "    <tr>\n",
              "      <th>...</th>\n",
              "      <td>...</td>\n",
              "      <td>...</td>\n",
              "      <td>...</td>\n",
              "      <td>...</td>\n",
              "      <td>...</td>\n",
              "      <td>...</td>\n",
              "      <td>...</td>\n",
              "      <td>...</td>\n",
              "      <td>...</td>\n",
              "      <td>...</td>\n",
              "      <td>...</td>\n",
              "      <td>...</td>\n",
              "      <td>...</td>\n",
              "      <td>...</td>\n",
              "      <td>...</td>\n",
              "      <td>...</td>\n",
              "      <td>...</td>\n",
              "      <td>...</td>\n",
              "      <td>...</td>\n",
              "      <td>...</td>\n",
              "      <td>...</td>\n",
              "    </tr>\n",
              "    <tr>\n",
              "      <th>25187</th>\n",
              "      <td>0</td>\n",
              "      <td>tcp</td>\n",
              "      <td>exec</td>\n",
              "      <td>RSTO</td>\n",
              "      <td>0</td>\n",
              "      <td>0</td>\n",
              "      <td>0</td>\n",
              "      <td>0</td>\n",
              "      <td>0</td>\n",
              "      <td>0</td>\n",
              "      <td>...</td>\n",
              "      <td>7</td>\n",
              "      <td>0.03</td>\n",
              "      <td>0.06</td>\n",
              "      <td>0.00</td>\n",
              "      <td>0.00</td>\n",
              "      <td>0.00</td>\n",
              "      <td>0.00</td>\n",
              "      <td>1.00</td>\n",
              "      <td>1.00</td>\n",
              "      <td>anomaly</td>\n",
              "    </tr>\n",
              "    <tr>\n",
              "      <th>25188</th>\n",
              "      <td>0</td>\n",
              "      <td>tcp</td>\n",
              "      <td>ftp_data</td>\n",
              "      <td>SF</td>\n",
              "      <td>334</td>\n",
              "      <td>0</td>\n",
              "      <td>0</td>\n",
              "      <td>0</td>\n",
              "      <td>0</td>\n",
              "      <td>0</td>\n",
              "      <td>...</td>\n",
              "      <td>39</td>\n",
              "      <td>1.00</td>\n",
              "      <td>0.00</td>\n",
              "      <td>1.00</td>\n",
              "      <td>0.18</td>\n",
              "      <td>0.00</td>\n",
              "      <td>0.00</td>\n",
              "      <td>0.00</td>\n",
              "      <td>0.00</td>\n",
              "      <td>anomaly</td>\n",
              "    </tr>\n",
              "    <tr>\n",
              "      <th>25189</th>\n",
              "      <td>0</td>\n",
              "      <td>tcp</td>\n",
              "      <td>private</td>\n",
              "      <td>REJ</td>\n",
              "      <td>0</td>\n",
              "      <td>0</td>\n",
              "      <td>0</td>\n",
              "      <td>0</td>\n",
              "      <td>0</td>\n",
              "      <td>0</td>\n",
              "      <td>...</td>\n",
              "      <td>13</td>\n",
              "      <td>0.05</td>\n",
              "      <td>0.07</td>\n",
              "      <td>0.00</td>\n",
              "      <td>0.00</td>\n",
              "      <td>0.00</td>\n",
              "      <td>0.00</td>\n",
              "      <td>1.00</td>\n",
              "      <td>1.00</td>\n",
              "      <td>anomaly</td>\n",
              "    </tr>\n",
              "    <tr>\n",
              "      <th>25190</th>\n",
              "      <td>0</td>\n",
              "      <td>tcp</td>\n",
              "      <td>nnsp</td>\n",
              "      <td>S0</td>\n",
              "      <td>0</td>\n",
              "      <td>0</td>\n",
              "      <td>0</td>\n",
              "      <td>0</td>\n",
              "      <td>0</td>\n",
              "      <td>0</td>\n",
              "      <td>...</td>\n",
              "      <td>20</td>\n",
              "      <td>0.08</td>\n",
              "      <td>0.06</td>\n",
              "      <td>0.00</td>\n",
              "      <td>0.00</td>\n",
              "      <td>1.00</td>\n",
              "      <td>1.00</td>\n",
              "      <td>0.00</td>\n",
              "      <td>0.00</td>\n",
              "      <td>anomaly</td>\n",
              "    </tr>\n",
              "    <tr>\n",
              "      <th>25191</th>\n",
              "      <td>0</td>\n",
              "      <td>tcp</td>\n",
              "      <td>finger</td>\n",
              "      <td>S0</td>\n",
              "      <td>0</td>\n",
              "      <td>0</td>\n",
              "      <td>0</td>\n",
              "      <td>0</td>\n",
              "      <td>0</td>\n",
              "      <td>0</td>\n",
              "      <td>...</td>\n",
              "      <td>49</td>\n",
              "      <td>0.19</td>\n",
              "      <td>0.03</td>\n",
              "      <td>0.01</td>\n",
              "      <td>0.00</td>\n",
              "      <td>1.00</td>\n",
              "      <td>1.00</td>\n",
              "      <td>0.00</td>\n",
              "      <td>0.00</td>\n",
              "      <td>anomaly</td>\n",
              "    </tr>\n",
              "  </tbody>\n",
              "</table>\n",
              "<p>25192 rows × 42 columns</p>\n",
              "</div>\n",
              "    <div class=\"colab-df-buttons\">\n",
              "\n",
              "  <div class=\"colab-df-container\">\n",
              "    <button class=\"colab-df-convert\" onclick=\"convertToInteractive('df-76fb8243-8e3a-4901-8db3-5faed8571df3')\"\n",
              "            title=\"Convert this dataframe to an interactive table.\"\n",
              "            style=\"display:none;\">\n",
              "\n",
              "  <svg xmlns=\"http://www.w3.org/2000/svg\" height=\"24px\" viewBox=\"0 -960 960 960\">\n",
              "    <path d=\"M120-120v-720h720v720H120Zm60-500h600v-160H180v160Zm220 220h160v-160H400v160Zm0 220h160v-160H400v160ZM180-400h160v-160H180v160Zm440 0h160v-160H620v160ZM180-180h160v-160H180v160Zm440 0h160v-160H620v160Z\"/>\n",
              "  </svg>\n",
              "    </button>\n",
              "\n",
              "  <style>\n",
              "    .colab-df-container {\n",
              "      display:flex;\n",
              "      gap: 12px;\n",
              "    }\n",
              "\n",
              "    .colab-df-convert {\n",
              "      background-color: #E8F0FE;\n",
              "      border: none;\n",
              "      border-radius: 50%;\n",
              "      cursor: pointer;\n",
              "      display: none;\n",
              "      fill: #1967D2;\n",
              "      height: 32px;\n",
              "      padding: 0 0 0 0;\n",
              "      width: 32px;\n",
              "    }\n",
              "\n",
              "    .colab-df-convert:hover {\n",
              "      background-color: #E2EBFA;\n",
              "      box-shadow: 0px 1px 2px rgba(60, 64, 67, 0.3), 0px 1px 3px 1px rgba(60, 64, 67, 0.15);\n",
              "      fill: #174EA6;\n",
              "    }\n",
              "\n",
              "    .colab-df-buttons div {\n",
              "      margin-bottom: 4px;\n",
              "    }\n",
              "\n",
              "    [theme=dark] .colab-df-convert {\n",
              "      background-color: #3B4455;\n",
              "      fill: #D2E3FC;\n",
              "    }\n",
              "\n",
              "    [theme=dark] .colab-df-convert:hover {\n",
              "      background-color: #434B5C;\n",
              "      box-shadow: 0px 1px 3px 1px rgba(0, 0, 0, 0.15);\n",
              "      filter: drop-shadow(0px 1px 2px rgba(0, 0, 0, 0.3));\n",
              "      fill: #FFFFFF;\n",
              "    }\n",
              "  </style>\n",
              "\n",
              "    <script>\n",
              "      const buttonEl =\n",
              "        document.querySelector('#df-76fb8243-8e3a-4901-8db3-5faed8571df3 button.colab-df-convert');\n",
              "      buttonEl.style.display =\n",
              "        google.colab.kernel.accessAllowed ? 'block' : 'none';\n",
              "\n",
              "      async function convertToInteractive(key) {\n",
              "        const element = document.querySelector('#df-76fb8243-8e3a-4901-8db3-5faed8571df3');\n",
              "        const dataTable =\n",
              "          await google.colab.kernel.invokeFunction('convertToInteractive',\n",
              "                                                    [key], {});\n",
              "        if (!dataTable) return;\n",
              "\n",
              "        const docLinkHtml = 'Like what you see? Visit the ' +\n",
              "          '<a target=\"_blank\" href=https://colab.research.google.com/notebooks/data_table.ipynb>data table notebook</a>'\n",
              "          + ' to learn more about interactive tables.';\n",
              "        element.innerHTML = '';\n",
              "        dataTable['output_type'] = 'display_data';\n",
              "        await google.colab.output.renderOutput(dataTable, element);\n",
              "        const docLink = document.createElement('div');\n",
              "        docLink.innerHTML = docLinkHtml;\n",
              "        element.appendChild(docLink);\n",
              "      }\n",
              "    </script>\n",
              "  </div>\n",
              "\n",
              "\n",
              "<div id=\"df-391e8038-e3f0-42d9-9411-c9aef4399b10\">\n",
              "  <button class=\"colab-df-quickchart\" onclick=\"quickchart('df-391e8038-e3f0-42d9-9411-c9aef4399b10')\"\n",
              "            title=\"Suggest charts\"\n",
              "            style=\"display:none;\">\n",
              "\n",
              "<svg xmlns=\"http://www.w3.org/2000/svg\" height=\"24px\"viewBox=\"0 0 24 24\"\n",
              "     width=\"24px\">\n",
              "    <g>\n",
              "        <path d=\"M19 3H5c-1.1 0-2 .9-2 2v14c0 1.1.9 2 2 2h14c1.1 0 2-.9 2-2V5c0-1.1-.9-2-2-2zM9 17H7v-7h2v7zm4 0h-2V7h2v10zm4 0h-2v-4h2v4z\"/>\n",
              "    </g>\n",
              "</svg>\n",
              "  </button>\n",
              "\n",
              "<style>\n",
              "  .colab-df-quickchart {\n",
              "      --bg-color: #E8F0FE;\n",
              "      --fill-color: #1967D2;\n",
              "      --hover-bg-color: #E2EBFA;\n",
              "      --hover-fill-color: #174EA6;\n",
              "      --disabled-fill-color: #AAA;\n",
              "      --disabled-bg-color: #DDD;\n",
              "  }\n",
              "\n",
              "  [theme=dark] .colab-df-quickchart {\n",
              "      --bg-color: #3B4455;\n",
              "      --fill-color: #D2E3FC;\n",
              "      --hover-bg-color: #434B5C;\n",
              "      --hover-fill-color: #FFFFFF;\n",
              "      --disabled-bg-color: #3B4455;\n",
              "      --disabled-fill-color: #666;\n",
              "  }\n",
              "\n",
              "  .colab-df-quickchart {\n",
              "    background-color: var(--bg-color);\n",
              "    border: none;\n",
              "    border-radius: 50%;\n",
              "    cursor: pointer;\n",
              "    display: none;\n",
              "    fill: var(--fill-color);\n",
              "    height: 32px;\n",
              "    padding: 0;\n",
              "    width: 32px;\n",
              "  }\n",
              "\n",
              "  .colab-df-quickchart:hover {\n",
              "    background-color: var(--hover-bg-color);\n",
              "    box-shadow: 0 1px 2px rgba(60, 64, 67, 0.3), 0 1px 3px 1px rgba(60, 64, 67, 0.15);\n",
              "    fill: var(--button-hover-fill-color);\n",
              "  }\n",
              "\n",
              "  .colab-df-quickchart-complete:disabled,\n",
              "  .colab-df-quickchart-complete:disabled:hover {\n",
              "    background-color: var(--disabled-bg-color);\n",
              "    fill: var(--disabled-fill-color);\n",
              "    box-shadow: none;\n",
              "  }\n",
              "\n",
              "  .colab-df-spinner {\n",
              "    border: 2px solid var(--fill-color);\n",
              "    border-color: transparent;\n",
              "    border-bottom-color: var(--fill-color);\n",
              "    animation:\n",
              "      spin 1s steps(1) infinite;\n",
              "  }\n",
              "\n",
              "  @keyframes spin {\n",
              "    0% {\n",
              "      border-color: transparent;\n",
              "      border-bottom-color: var(--fill-color);\n",
              "      border-left-color: var(--fill-color);\n",
              "    }\n",
              "    20% {\n",
              "      border-color: transparent;\n",
              "      border-left-color: var(--fill-color);\n",
              "      border-top-color: var(--fill-color);\n",
              "    }\n",
              "    30% {\n",
              "      border-color: transparent;\n",
              "      border-left-color: var(--fill-color);\n",
              "      border-top-color: var(--fill-color);\n",
              "      border-right-color: var(--fill-color);\n",
              "    }\n",
              "    40% {\n",
              "      border-color: transparent;\n",
              "      border-right-color: var(--fill-color);\n",
              "      border-top-color: var(--fill-color);\n",
              "    }\n",
              "    60% {\n",
              "      border-color: transparent;\n",
              "      border-right-color: var(--fill-color);\n",
              "    }\n",
              "    80% {\n",
              "      border-color: transparent;\n",
              "      border-right-color: var(--fill-color);\n",
              "      border-bottom-color: var(--fill-color);\n",
              "    }\n",
              "    90% {\n",
              "      border-color: transparent;\n",
              "      border-bottom-color: var(--fill-color);\n",
              "    }\n",
              "  }\n",
              "</style>\n",
              "\n",
              "  <script>\n",
              "    async function quickchart(key) {\n",
              "      const quickchartButtonEl =\n",
              "        document.querySelector('#' + key + ' button');\n",
              "      quickchartButtonEl.disabled = true;  // To prevent multiple clicks.\n",
              "      quickchartButtonEl.classList.add('colab-df-spinner');\n",
              "      try {\n",
              "        const charts = await google.colab.kernel.invokeFunction(\n",
              "            'suggestCharts', [key], {});\n",
              "      } catch (error) {\n",
              "        console.error('Error during call to suggestCharts:', error);\n",
              "      }\n",
              "      quickchartButtonEl.classList.remove('colab-df-spinner');\n",
              "      quickchartButtonEl.classList.add('colab-df-quickchart-complete');\n",
              "    }\n",
              "    (() => {\n",
              "      let quickchartButtonEl =\n",
              "        document.querySelector('#df-391e8038-e3f0-42d9-9411-c9aef4399b10 button');\n",
              "      quickchartButtonEl.style.display =\n",
              "        google.colab.kernel.accessAllowed ? 'block' : 'none';\n",
              "    })();\n",
              "  </script>\n",
              "</div>\n",
              "\n",
              "  <div id=\"id_25869f73-cc6f-4dc1-acab-7459cd1ffe0e\">\n",
              "    <style>\n",
              "      .colab-df-generate {\n",
              "        background-color: #E8F0FE;\n",
              "        border: none;\n",
              "        border-radius: 50%;\n",
              "        cursor: pointer;\n",
              "        display: none;\n",
              "        fill: #1967D2;\n",
              "        height: 32px;\n",
              "        padding: 0 0 0 0;\n",
              "        width: 32px;\n",
              "      }\n",
              "\n",
              "      .colab-df-generate:hover {\n",
              "        background-color: #E2EBFA;\n",
              "        box-shadow: 0px 1px 2px rgba(60, 64, 67, 0.3), 0px 1px 3px 1px rgba(60, 64, 67, 0.15);\n",
              "        fill: #174EA6;\n",
              "      }\n",
              "\n",
              "      [theme=dark] .colab-df-generate {\n",
              "        background-color: #3B4455;\n",
              "        fill: #D2E3FC;\n",
              "      }\n",
              "\n",
              "      [theme=dark] .colab-df-generate:hover {\n",
              "        background-color: #434B5C;\n",
              "        box-shadow: 0px 1px 3px 1px rgba(0, 0, 0, 0.15);\n",
              "        filter: drop-shadow(0px 1px 2px rgba(0, 0, 0, 0.3));\n",
              "        fill: #FFFFFF;\n",
              "      }\n",
              "    </style>\n",
              "    <button class=\"colab-df-generate\" onclick=\"generateWithVariable('train')\"\n",
              "            title=\"Generate code using this dataframe.\"\n",
              "            style=\"display:none;\">\n",
              "\n",
              "  <svg xmlns=\"http://www.w3.org/2000/svg\" height=\"24px\"viewBox=\"0 0 24 24\"\n",
              "       width=\"24px\">\n",
              "    <path d=\"M7,19H8.4L18.45,9,17,7.55,7,17.6ZM5,21V16.75L18.45,3.32a2,2,0,0,1,2.83,0l1.4,1.43a1.91,1.91,0,0,1,.58,1.4,1.91,1.91,0,0,1-.58,1.4L9.25,21ZM18.45,9,17,7.55Zm-12,3A5.31,5.31,0,0,0,4.9,8.1,5.31,5.31,0,0,0,1,6.5,5.31,5.31,0,0,0,4.9,4.9,5.31,5.31,0,0,0,6.5,1,5.31,5.31,0,0,0,8.1,4.9,5.31,5.31,0,0,0,12,6.5,5.46,5.46,0,0,0,6.5,12Z\"/>\n",
              "  </svg>\n",
              "    </button>\n",
              "    <script>\n",
              "      (() => {\n",
              "      const buttonEl =\n",
              "        document.querySelector('#id_25869f73-cc6f-4dc1-acab-7459cd1ffe0e button.colab-df-generate');\n",
              "      buttonEl.style.display =\n",
              "        google.colab.kernel.accessAllowed ? 'block' : 'none';\n",
              "\n",
              "      buttonEl.onclick = () => {\n",
              "        google.colab.notebook.generateWithVariable('train');\n",
              "      }\n",
              "      })();\n",
              "    </script>\n",
              "  </div>\n",
              "\n",
              "    </div>\n",
              "  </div>\n"
            ],
            "application/vnd.google.colaboratory.intrinsic+json": {
              "type": "dataframe",
              "variable_name": "train"
            }
          },
          "metadata": {},
          "execution_count": 5
        }
      ]
    },
    {
      "cell_type": "code",
      "source": [
        "train.info()"
      ],
      "metadata": {
        "colab": {
          "base_uri": "https://localhost:8080/"
        },
        "id": "_oLRv8i3hw_T",
        "outputId": "94fadef9-ee24-4ba9-8e11-434a98b22760"
      },
      "execution_count": null,
      "outputs": [
        {
          "output_type": "stream",
          "name": "stdout",
          "text": [
            "<class 'pandas.core.frame.DataFrame'>\n",
            "RangeIndex: 25192 entries, 0 to 25191\n",
            "Data columns (total 42 columns):\n",
            " #   Column                       Non-Null Count  Dtype  \n",
            "---  ------                       --------------  -----  \n",
            " 0   duration                     25192 non-null  int64  \n",
            " 1   protocol_type                25192 non-null  object \n",
            " 2   service                      25192 non-null  object \n",
            " 3   flag                         25192 non-null  object \n",
            " 4   src_bytes                    25192 non-null  int64  \n",
            " 5   dst_bytes                    25192 non-null  int64  \n",
            " 6   land                         25192 non-null  int64  \n",
            " 7   wrong_fragment               25192 non-null  int64  \n",
            " 8   urgent                       25192 non-null  int64  \n",
            " 9   hot                          25192 non-null  int64  \n",
            " 10  num_failed_logins            25192 non-null  int64  \n",
            " 11  logged_in                    25192 non-null  int64  \n",
            " 12  num_compromised              25192 non-null  int64  \n",
            " 13  root_shell                   25192 non-null  int64  \n",
            " 14  su_attempted                 25192 non-null  int64  \n",
            " 15  num_root                     25192 non-null  int64  \n",
            " 16  num_file_creations           25192 non-null  int64  \n",
            " 17  num_shells                   25192 non-null  int64  \n",
            " 18  num_access_files             25192 non-null  int64  \n",
            " 19  num_outbound_cmds            25192 non-null  int64  \n",
            " 20  is_host_login                25192 non-null  int64  \n",
            " 21  is_guest_login               25192 non-null  int64  \n",
            " 22  count                        25192 non-null  int64  \n",
            " 23  srv_count                    25192 non-null  int64  \n",
            " 24  serror_rate                  25192 non-null  float64\n",
            " 25  srv_serror_rate              25192 non-null  float64\n",
            " 26  rerror_rate                  25192 non-null  float64\n",
            " 27  srv_rerror_rate              25192 non-null  float64\n",
            " 28  same_srv_rate                25192 non-null  float64\n",
            " 29  diff_srv_rate                25192 non-null  float64\n",
            " 30  srv_diff_host_rate           25192 non-null  float64\n",
            " 31  dst_host_count               25192 non-null  int64  \n",
            " 32  dst_host_srv_count           25192 non-null  int64  \n",
            " 33  dst_host_same_srv_rate       25192 non-null  float64\n",
            " 34  dst_host_diff_srv_rate       25192 non-null  float64\n",
            " 35  dst_host_same_src_port_rate  25192 non-null  float64\n",
            " 36  dst_host_srv_diff_host_rate  25192 non-null  float64\n",
            " 37  dst_host_serror_rate         25192 non-null  float64\n",
            " 38  dst_host_srv_serror_rate     25192 non-null  float64\n",
            " 39  dst_host_rerror_rate         25192 non-null  float64\n",
            " 40  dst_host_srv_rerror_rate     25192 non-null  float64\n",
            " 41  class                        25192 non-null  object \n",
            "dtypes: float64(15), int64(23), object(4)\n",
            "memory usage: 8.1+ MB\n"
          ]
        }
      ]
    },
    {
      "cell_type": "code",
      "source": [
        "train.shape"
      ],
      "metadata": {
        "colab": {
          "base_uri": "https://localhost:8080/"
        },
        "id": "UbHM-eKFhyG3",
        "outputId": "a9471d02-2288-4782-94b0-9b216809e40f"
      },
      "execution_count": null,
      "outputs": [
        {
          "output_type": "execute_result",
          "data": {
            "text/plain": [
              "(25192, 42)"
            ]
          },
          "metadata": {},
          "execution_count": 7
        }
      ]
    },
    {
      "cell_type": "code",
      "source": [
        "train.describe()"
      ],
      "metadata": {
        "colab": {
          "base_uri": "https://localhost:8080/",
          "height": 350
        },
        "id": "1S6YlwWMh2d6",
        "outputId": "03f07e4f-d472-40e6-aae1-74be3a772598"
      },
      "execution_count": null,
      "outputs": [
        {
          "output_type": "execute_result",
          "data": {
            "text/plain": [
              "           duration     src_bytes     dst_bytes          land  wrong_fragment  \\\n",
              "count  25192.000000  2.519200e+04  2.519200e+04  25192.000000    25192.000000   \n",
              "mean     305.054104  2.433063e+04  3.491847e+03      0.000079        0.023738   \n",
              "std     2686.555640  2.410805e+06  8.883072e+04      0.008910        0.260221   \n",
              "min        0.000000  0.000000e+00  0.000000e+00      0.000000        0.000000   \n",
              "25%        0.000000  0.000000e+00  0.000000e+00      0.000000        0.000000   \n",
              "50%        0.000000  4.400000e+01  0.000000e+00      0.000000        0.000000   \n",
              "75%        0.000000  2.790000e+02  5.302500e+02      0.000000        0.000000   \n",
              "max    42862.000000  3.817091e+08  5.151385e+06      1.000000        3.000000   \n",
              "\n",
              "            urgent           hot  num_failed_logins     logged_in  \\\n",
              "count  25192.00000  25192.000000       25192.000000  25192.000000   \n",
              "mean       0.00004      0.198039           0.001191      0.394768   \n",
              "std        0.00630      2.154202           0.045418      0.488811   \n",
              "min        0.00000      0.000000           0.000000      0.000000   \n",
              "25%        0.00000      0.000000           0.000000      0.000000   \n",
              "50%        0.00000      0.000000           0.000000      0.000000   \n",
              "75%        0.00000      0.000000           0.000000      1.000000   \n",
              "max        1.00000     77.000000           4.000000      1.000000   \n",
              "\n",
              "       num_compromised  ...  dst_host_count  dst_host_srv_count  \\\n",
              "count     25192.000000  ...    25192.000000        25192.000000   \n",
              "mean          0.227850  ...      182.532074          115.063036   \n",
              "std          10.417352  ...       98.993895          110.646850   \n",
              "min           0.000000  ...        0.000000            0.000000   \n",
              "25%           0.000000  ...       84.000000           10.000000   \n",
              "50%           0.000000  ...      255.000000           61.000000   \n",
              "75%           0.000000  ...      255.000000          255.000000   \n",
              "max         884.000000  ...      255.000000          255.000000   \n",
              "\n",
              "       dst_host_same_srv_rate  dst_host_diff_srv_rate  \\\n",
              "count            25192.000000            25192.000000   \n",
              "mean                 0.519791                0.082539   \n",
              "std                  0.448944                0.187191   \n",
              "min                  0.000000                0.000000   \n",
              "25%                  0.050000                0.000000   \n",
              "50%                  0.510000                0.030000   \n",
              "75%                  1.000000                0.070000   \n",
              "max                  1.000000                1.000000   \n",
              "\n",
              "       dst_host_same_src_port_rate  dst_host_srv_diff_host_rate  \\\n",
              "count                 25192.000000                 25192.000000   \n",
              "mean                      0.147453                     0.031844   \n",
              "std                       0.308367                     0.110575   \n",
              "min                       0.000000                     0.000000   \n",
              "25%                       0.000000                     0.000000   \n",
              "50%                       0.000000                     0.000000   \n",
              "75%                       0.060000                     0.020000   \n",
              "max                       1.000000                     1.000000   \n",
              "\n",
              "       dst_host_serror_rate  dst_host_srv_serror_rate  dst_host_rerror_rate  \\\n",
              "count          25192.000000              25192.000000          25192.000000   \n",
              "mean               0.285800                  0.279846              0.117800   \n",
              "std                0.445316                  0.446075              0.305869   \n",
              "min                0.000000                  0.000000              0.000000   \n",
              "25%                0.000000                  0.000000              0.000000   \n",
              "50%                0.000000                  0.000000              0.000000   \n",
              "75%                1.000000                  1.000000              0.000000   \n",
              "max                1.000000                  1.000000              1.000000   \n",
              "\n",
              "       dst_host_srv_rerror_rate  \n",
              "count              25192.000000  \n",
              "mean                   0.118769  \n",
              "std                    0.317333  \n",
              "min                    0.000000  \n",
              "25%                    0.000000  \n",
              "50%                    0.000000  \n",
              "75%                    0.000000  \n",
              "max                    1.000000  \n",
              "\n",
              "[8 rows x 38 columns]"
            ],
            "text/html": [
              "\n",
              "  <div id=\"df-ba1c530a-a83c-4329-a04b-e36e65bd14e8\" class=\"colab-df-container\">\n",
              "    <div>\n",
              "<style scoped>\n",
              "    .dataframe tbody tr th:only-of-type {\n",
              "        vertical-align: middle;\n",
              "    }\n",
              "\n",
              "    .dataframe tbody tr th {\n",
              "        vertical-align: top;\n",
              "    }\n",
              "\n",
              "    .dataframe thead th {\n",
              "        text-align: right;\n",
              "    }\n",
              "</style>\n",
              "<table border=\"1\" class=\"dataframe\">\n",
              "  <thead>\n",
              "    <tr style=\"text-align: right;\">\n",
              "      <th></th>\n",
              "      <th>duration</th>\n",
              "      <th>src_bytes</th>\n",
              "      <th>dst_bytes</th>\n",
              "      <th>land</th>\n",
              "      <th>wrong_fragment</th>\n",
              "      <th>urgent</th>\n",
              "      <th>hot</th>\n",
              "      <th>num_failed_logins</th>\n",
              "      <th>logged_in</th>\n",
              "      <th>num_compromised</th>\n",
              "      <th>...</th>\n",
              "      <th>dst_host_count</th>\n",
              "      <th>dst_host_srv_count</th>\n",
              "      <th>dst_host_same_srv_rate</th>\n",
              "      <th>dst_host_diff_srv_rate</th>\n",
              "      <th>dst_host_same_src_port_rate</th>\n",
              "      <th>dst_host_srv_diff_host_rate</th>\n",
              "      <th>dst_host_serror_rate</th>\n",
              "      <th>dst_host_srv_serror_rate</th>\n",
              "      <th>dst_host_rerror_rate</th>\n",
              "      <th>dst_host_srv_rerror_rate</th>\n",
              "    </tr>\n",
              "  </thead>\n",
              "  <tbody>\n",
              "    <tr>\n",
              "      <th>count</th>\n",
              "      <td>25192.000000</td>\n",
              "      <td>2.519200e+04</td>\n",
              "      <td>2.519200e+04</td>\n",
              "      <td>25192.000000</td>\n",
              "      <td>25192.000000</td>\n",
              "      <td>25192.00000</td>\n",
              "      <td>25192.000000</td>\n",
              "      <td>25192.000000</td>\n",
              "      <td>25192.000000</td>\n",
              "      <td>25192.000000</td>\n",
              "      <td>...</td>\n",
              "      <td>25192.000000</td>\n",
              "      <td>25192.000000</td>\n",
              "      <td>25192.000000</td>\n",
              "      <td>25192.000000</td>\n",
              "      <td>25192.000000</td>\n",
              "      <td>25192.000000</td>\n",
              "      <td>25192.000000</td>\n",
              "      <td>25192.000000</td>\n",
              "      <td>25192.000000</td>\n",
              "      <td>25192.000000</td>\n",
              "    </tr>\n",
              "    <tr>\n",
              "      <th>mean</th>\n",
              "      <td>305.054104</td>\n",
              "      <td>2.433063e+04</td>\n",
              "      <td>3.491847e+03</td>\n",
              "      <td>0.000079</td>\n",
              "      <td>0.023738</td>\n",
              "      <td>0.00004</td>\n",
              "      <td>0.198039</td>\n",
              "      <td>0.001191</td>\n",
              "      <td>0.394768</td>\n",
              "      <td>0.227850</td>\n",
              "      <td>...</td>\n",
              "      <td>182.532074</td>\n",
              "      <td>115.063036</td>\n",
              "      <td>0.519791</td>\n",
              "      <td>0.082539</td>\n",
              "      <td>0.147453</td>\n",
              "      <td>0.031844</td>\n",
              "      <td>0.285800</td>\n",
              "      <td>0.279846</td>\n",
              "      <td>0.117800</td>\n",
              "      <td>0.118769</td>\n",
              "    </tr>\n",
              "    <tr>\n",
              "      <th>std</th>\n",
              "      <td>2686.555640</td>\n",
              "      <td>2.410805e+06</td>\n",
              "      <td>8.883072e+04</td>\n",
              "      <td>0.008910</td>\n",
              "      <td>0.260221</td>\n",
              "      <td>0.00630</td>\n",
              "      <td>2.154202</td>\n",
              "      <td>0.045418</td>\n",
              "      <td>0.488811</td>\n",
              "      <td>10.417352</td>\n",
              "      <td>...</td>\n",
              "      <td>98.993895</td>\n",
              "      <td>110.646850</td>\n",
              "      <td>0.448944</td>\n",
              "      <td>0.187191</td>\n",
              "      <td>0.308367</td>\n",
              "      <td>0.110575</td>\n",
              "      <td>0.445316</td>\n",
              "      <td>0.446075</td>\n",
              "      <td>0.305869</td>\n",
              "      <td>0.317333</td>\n",
              "    </tr>\n",
              "    <tr>\n",
              "      <th>min</th>\n",
              "      <td>0.000000</td>\n",
              "      <td>0.000000e+00</td>\n",
              "      <td>0.000000e+00</td>\n",
              "      <td>0.000000</td>\n",
              "      <td>0.000000</td>\n",
              "      <td>0.00000</td>\n",
              "      <td>0.000000</td>\n",
              "      <td>0.000000</td>\n",
              "      <td>0.000000</td>\n",
              "      <td>0.000000</td>\n",
              "      <td>...</td>\n",
              "      <td>0.000000</td>\n",
              "      <td>0.000000</td>\n",
              "      <td>0.000000</td>\n",
              "      <td>0.000000</td>\n",
              "      <td>0.000000</td>\n",
              "      <td>0.000000</td>\n",
              "      <td>0.000000</td>\n",
              "      <td>0.000000</td>\n",
              "      <td>0.000000</td>\n",
              "      <td>0.000000</td>\n",
              "    </tr>\n",
              "    <tr>\n",
              "      <th>25%</th>\n",
              "      <td>0.000000</td>\n",
              "      <td>0.000000e+00</td>\n",
              "      <td>0.000000e+00</td>\n",
              "      <td>0.000000</td>\n",
              "      <td>0.000000</td>\n",
              "      <td>0.00000</td>\n",
              "      <td>0.000000</td>\n",
              "      <td>0.000000</td>\n",
              "      <td>0.000000</td>\n",
              "      <td>0.000000</td>\n",
              "      <td>...</td>\n",
              "      <td>84.000000</td>\n",
              "      <td>10.000000</td>\n",
              "      <td>0.050000</td>\n",
              "      <td>0.000000</td>\n",
              "      <td>0.000000</td>\n",
              "      <td>0.000000</td>\n",
              "      <td>0.000000</td>\n",
              "      <td>0.000000</td>\n",
              "      <td>0.000000</td>\n",
              "      <td>0.000000</td>\n",
              "    </tr>\n",
              "    <tr>\n",
              "      <th>50%</th>\n",
              "      <td>0.000000</td>\n",
              "      <td>4.400000e+01</td>\n",
              "      <td>0.000000e+00</td>\n",
              "      <td>0.000000</td>\n",
              "      <td>0.000000</td>\n",
              "      <td>0.00000</td>\n",
              "      <td>0.000000</td>\n",
              "      <td>0.000000</td>\n",
              "      <td>0.000000</td>\n",
              "      <td>0.000000</td>\n",
              "      <td>...</td>\n",
              "      <td>255.000000</td>\n",
              "      <td>61.000000</td>\n",
              "      <td>0.510000</td>\n",
              "      <td>0.030000</td>\n",
              "      <td>0.000000</td>\n",
              "      <td>0.000000</td>\n",
              "      <td>0.000000</td>\n",
              "      <td>0.000000</td>\n",
              "      <td>0.000000</td>\n",
              "      <td>0.000000</td>\n",
              "    </tr>\n",
              "    <tr>\n",
              "      <th>75%</th>\n",
              "      <td>0.000000</td>\n",
              "      <td>2.790000e+02</td>\n",
              "      <td>5.302500e+02</td>\n",
              "      <td>0.000000</td>\n",
              "      <td>0.000000</td>\n",
              "      <td>0.00000</td>\n",
              "      <td>0.000000</td>\n",
              "      <td>0.000000</td>\n",
              "      <td>1.000000</td>\n",
              "      <td>0.000000</td>\n",
              "      <td>...</td>\n",
              "      <td>255.000000</td>\n",
              "      <td>255.000000</td>\n",
              "      <td>1.000000</td>\n",
              "      <td>0.070000</td>\n",
              "      <td>0.060000</td>\n",
              "      <td>0.020000</td>\n",
              "      <td>1.000000</td>\n",
              "      <td>1.000000</td>\n",
              "      <td>0.000000</td>\n",
              "      <td>0.000000</td>\n",
              "    </tr>\n",
              "    <tr>\n",
              "      <th>max</th>\n",
              "      <td>42862.000000</td>\n",
              "      <td>3.817091e+08</td>\n",
              "      <td>5.151385e+06</td>\n",
              "      <td>1.000000</td>\n",
              "      <td>3.000000</td>\n",
              "      <td>1.00000</td>\n",
              "      <td>77.000000</td>\n",
              "      <td>4.000000</td>\n",
              "      <td>1.000000</td>\n",
              "      <td>884.000000</td>\n",
              "      <td>...</td>\n",
              "      <td>255.000000</td>\n",
              "      <td>255.000000</td>\n",
              "      <td>1.000000</td>\n",
              "      <td>1.000000</td>\n",
              "      <td>1.000000</td>\n",
              "      <td>1.000000</td>\n",
              "      <td>1.000000</td>\n",
              "      <td>1.000000</td>\n",
              "      <td>1.000000</td>\n",
              "      <td>1.000000</td>\n",
              "    </tr>\n",
              "  </tbody>\n",
              "</table>\n",
              "<p>8 rows × 38 columns</p>\n",
              "</div>\n",
              "    <div class=\"colab-df-buttons\">\n",
              "\n",
              "  <div class=\"colab-df-container\">\n",
              "    <button class=\"colab-df-convert\" onclick=\"convertToInteractive('df-ba1c530a-a83c-4329-a04b-e36e65bd14e8')\"\n",
              "            title=\"Convert this dataframe to an interactive table.\"\n",
              "            style=\"display:none;\">\n",
              "\n",
              "  <svg xmlns=\"http://www.w3.org/2000/svg\" height=\"24px\" viewBox=\"0 -960 960 960\">\n",
              "    <path d=\"M120-120v-720h720v720H120Zm60-500h600v-160H180v160Zm220 220h160v-160H400v160Zm0 220h160v-160H400v160ZM180-400h160v-160H180v160Zm440 0h160v-160H620v160ZM180-180h160v-160H180v160Zm440 0h160v-160H620v160Z\"/>\n",
              "  </svg>\n",
              "    </button>\n",
              "\n",
              "  <style>\n",
              "    .colab-df-container {\n",
              "      display:flex;\n",
              "      gap: 12px;\n",
              "    }\n",
              "\n",
              "    .colab-df-convert {\n",
              "      background-color: #E8F0FE;\n",
              "      border: none;\n",
              "      border-radius: 50%;\n",
              "      cursor: pointer;\n",
              "      display: none;\n",
              "      fill: #1967D2;\n",
              "      height: 32px;\n",
              "      padding: 0 0 0 0;\n",
              "      width: 32px;\n",
              "    }\n",
              "\n",
              "    .colab-df-convert:hover {\n",
              "      background-color: #E2EBFA;\n",
              "      box-shadow: 0px 1px 2px rgba(60, 64, 67, 0.3), 0px 1px 3px 1px rgba(60, 64, 67, 0.15);\n",
              "      fill: #174EA6;\n",
              "    }\n",
              "\n",
              "    .colab-df-buttons div {\n",
              "      margin-bottom: 4px;\n",
              "    }\n",
              "\n",
              "    [theme=dark] .colab-df-convert {\n",
              "      background-color: #3B4455;\n",
              "      fill: #D2E3FC;\n",
              "    }\n",
              "\n",
              "    [theme=dark] .colab-df-convert:hover {\n",
              "      background-color: #434B5C;\n",
              "      box-shadow: 0px 1px 3px 1px rgba(0, 0, 0, 0.15);\n",
              "      filter: drop-shadow(0px 1px 2px rgba(0, 0, 0, 0.3));\n",
              "      fill: #FFFFFF;\n",
              "    }\n",
              "  </style>\n",
              "\n",
              "    <script>\n",
              "      const buttonEl =\n",
              "        document.querySelector('#df-ba1c530a-a83c-4329-a04b-e36e65bd14e8 button.colab-df-convert');\n",
              "      buttonEl.style.display =\n",
              "        google.colab.kernel.accessAllowed ? 'block' : 'none';\n",
              "\n",
              "      async function convertToInteractive(key) {\n",
              "        const element = document.querySelector('#df-ba1c530a-a83c-4329-a04b-e36e65bd14e8');\n",
              "        const dataTable =\n",
              "          await google.colab.kernel.invokeFunction('convertToInteractive',\n",
              "                                                    [key], {});\n",
              "        if (!dataTable) return;\n",
              "\n",
              "        const docLinkHtml = 'Like what you see? Visit the ' +\n",
              "          '<a target=\"_blank\" href=https://colab.research.google.com/notebooks/data_table.ipynb>data table notebook</a>'\n",
              "          + ' to learn more about interactive tables.';\n",
              "        element.innerHTML = '';\n",
              "        dataTable['output_type'] = 'display_data';\n",
              "        await google.colab.output.renderOutput(dataTable, element);\n",
              "        const docLink = document.createElement('div');\n",
              "        docLink.innerHTML = docLinkHtml;\n",
              "        element.appendChild(docLink);\n",
              "      }\n",
              "    </script>\n",
              "  </div>\n",
              "\n",
              "\n",
              "<div id=\"df-e6454b41-81a5-41c5-aec1-fcf9d78e6405\">\n",
              "  <button class=\"colab-df-quickchart\" onclick=\"quickchart('df-e6454b41-81a5-41c5-aec1-fcf9d78e6405')\"\n",
              "            title=\"Suggest charts\"\n",
              "            style=\"display:none;\">\n",
              "\n",
              "<svg xmlns=\"http://www.w3.org/2000/svg\" height=\"24px\"viewBox=\"0 0 24 24\"\n",
              "     width=\"24px\">\n",
              "    <g>\n",
              "        <path d=\"M19 3H5c-1.1 0-2 .9-2 2v14c0 1.1.9 2 2 2h14c1.1 0 2-.9 2-2V5c0-1.1-.9-2-2-2zM9 17H7v-7h2v7zm4 0h-2V7h2v10zm4 0h-2v-4h2v4z\"/>\n",
              "    </g>\n",
              "</svg>\n",
              "  </button>\n",
              "\n",
              "<style>\n",
              "  .colab-df-quickchart {\n",
              "      --bg-color: #E8F0FE;\n",
              "      --fill-color: #1967D2;\n",
              "      --hover-bg-color: #E2EBFA;\n",
              "      --hover-fill-color: #174EA6;\n",
              "      --disabled-fill-color: #AAA;\n",
              "      --disabled-bg-color: #DDD;\n",
              "  }\n",
              "\n",
              "  [theme=dark] .colab-df-quickchart {\n",
              "      --bg-color: #3B4455;\n",
              "      --fill-color: #D2E3FC;\n",
              "      --hover-bg-color: #434B5C;\n",
              "      --hover-fill-color: #FFFFFF;\n",
              "      --disabled-bg-color: #3B4455;\n",
              "      --disabled-fill-color: #666;\n",
              "  }\n",
              "\n",
              "  .colab-df-quickchart {\n",
              "    background-color: var(--bg-color);\n",
              "    border: none;\n",
              "    border-radius: 50%;\n",
              "    cursor: pointer;\n",
              "    display: none;\n",
              "    fill: var(--fill-color);\n",
              "    height: 32px;\n",
              "    padding: 0;\n",
              "    width: 32px;\n",
              "  }\n",
              "\n",
              "  .colab-df-quickchart:hover {\n",
              "    background-color: var(--hover-bg-color);\n",
              "    box-shadow: 0 1px 2px rgba(60, 64, 67, 0.3), 0 1px 3px 1px rgba(60, 64, 67, 0.15);\n",
              "    fill: var(--button-hover-fill-color);\n",
              "  }\n",
              "\n",
              "  .colab-df-quickchart-complete:disabled,\n",
              "  .colab-df-quickchart-complete:disabled:hover {\n",
              "    background-color: var(--disabled-bg-color);\n",
              "    fill: var(--disabled-fill-color);\n",
              "    box-shadow: none;\n",
              "  }\n",
              "\n",
              "  .colab-df-spinner {\n",
              "    border: 2px solid var(--fill-color);\n",
              "    border-color: transparent;\n",
              "    border-bottom-color: var(--fill-color);\n",
              "    animation:\n",
              "      spin 1s steps(1) infinite;\n",
              "  }\n",
              "\n",
              "  @keyframes spin {\n",
              "    0% {\n",
              "      border-color: transparent;\n",
              "      border-bottom-color: var(--fill-color);\n",
              "      border-left-color: var(--fill-color);\n",
              "    }\n",
              "    20% {\n",
              "      border-color: transparent;\n",
              "      border-left-color: var(--fill-color);\n",
              "      border-top-color: var(--fill-color);\n",
              "    }\n",
              "    30% {\n",
              "      border-color: transparent;\n",
              "      border-left-color: var(--fill-color);\n",
              "      border-top-color: var(--fill-color);\n",
              "      border-right-color: var(--fill-color);\n",
              "    }\n",
              "    40% {\n",
              "      border-color: transparent;\n",
              "      border-right-color: var(--fill-color);\n",
              "      border-top-color: var(--fill-color);\n",
              "    }\n",
              "    60% {\n",
              "      border-color: transparent;\n",
              "      border-right-color: var(--fill-color);\n",
              "    }\n",
              "    80% {\n",
              "      border-color: transparent;\n",
              "      border-right-color: var(--fill-color);\n",
              "      border-bottom-color: var(--fill-color);\n",
              "    }\n",
              "    90% {\n",
              "      border-color: transparent;\n",
              "      border-bottom-color: var(--fill-color);\n",
              "    }\n",
              "  }\n",
              "</style>\n",
              "\n",
              "  <script>\n",
              "    async function quickchart(key) {\n",
              "      const quickchartButtonEl =\n",
              "        document.querySelector('#' + key + ' button');\n",
              "      quickchartButtonEl.disabled = true;  // To prevent multiple clicks.\n",
              "      quickchartButtonEl.classList.add('colab-df-spinner');\n",
              "      try {\n",
              "        const charts = await google.colab.kernel.invokeFunction(\n",
              "            'suggestCharts', [key], {});\n",
              "      } catch (error) {\n",
              "        console.error('Error during call to suggestCharts:', error);\n",
              "      }\n",
              "      quickchartButtonEl.classList.remove('colab-df-spinner');\n",
              "      quickchartButtonEl.classList.add('colab-df-quickchart-complete');\n",
              "    }\n",
              "    (() => {\n",
              "      let quickchartButtonEl =\n",
              "        document.querySelector('#df-e6454b41-81a5-41c5-aec1-fcf9d78e6405 button');\n",
              "      quickchartButtonEl.style.display =\n",
              "        google.colab.kernel.accessAllowed ? 'block' : 'none';\n",
              "    })();\n",
              "  </script>\n",
              "</div>\n",
              "\n",
              "    </div>\n",
              "  </div>\n"
            ],
            "application/vnd.google.colaboratory.intrinsic+json": {
              "type": "dataframe"
            }
          },
          "metadata": {},
          "execution_count": 8
        }
      ]
    },
    {
      "cell_type": "code",
      "source": [
        "train.describe(include=\"object\")"
      ],
      "metadata": {
        "colab": {
          "base_uri": "https://localhost:8080/",
          "height": 175
        },
        "id": "OkABrXZ1h4bp",
        "outputId": "3e8e42c4-a1b0-4bdf-813b-85143e2b9baf"
      },
      "execution_count": null,
      "outputs": [
        {
          "output_type": "execute_result",
          "data": {
            "text/plain": [
              "       protocol_type service   flag   class\n",
              "count          25192   25192  25192   25192\n",
              "unique             3      66     11       2\n",
              "top              tcp    http     SF  normal\n",
              "freq           20526    8003  14973   13449"
            ],
            "text/html": [
              "\n",
              "  <div id=\"df-656c2b22-88a4-474a-ab7c-948553b112c9\" class=\"colab-df-container\">\n",
              "    <div>\n",
              "<style scoped>\n",
              "    .dataframe tbody tr th:only-of-type {\n",
              "        vertical-align: middle;\n",
              "    }\n",
              "\n",
              "    .dataframe tbody tr th {\n",
              "        vertical-align: top;\n",
              "    }\n",
              "\n",
              "    .dataframe thead th {\n",
              "        text-align: right;\n",
              "    }\n",
              "</style>\n",
              "<table border=\"1\" class=\"dataframe\">\n",
              "  <thead>\n",
              "    <tr style=\"text-align: right;\">\n",
              "      <th></th>\n",
              "      <th>protocol_type</th>\n",
              "      <th>service</th>\n",
              "      <th>flag</th>\n",
              "      <th>class</th>\n",
              "    </tr>\n",
              "  </thead>\n",
              "  <tbody>\n",
              "    <tr>\n",
              "      <th>count</th>\n",
              "      <td>25192</td>\n",
              "      <td>25192</td>\n",
              "      <td>25192</td>\n",
              "      <td>25192</td>\n",
              "    </tr>\n",
              "    <tr>\n",
              "      <th>unique</th>\n",
              "      <td>3</td>\n",
              "      <td>66</td>\n",
              "      <td>11</td>\n",
              "      <td>2</td>\n",
              "    </tr>\n",
              "    <tr>\n",
              "      <th>top</th>\n",
              "      <td>tcp</td>\n",
              "      <td>http</td>\n",
              "      <td>SF</td>\n",
              "      <td>normal</td>\n",
              "    </tr>\n",
              "    <tr>\n",
              "      <th>freq</th>\n",
              "      <td>20526</td>\n",
              "      <td>8003</td>\n",
              "      <td>14973</td>\n",
              "      <td>13449</td>\n",
              "    </tr>\n",
              "  </tbody>\n",
              "</table>\n",
              "</div>\n",
              "    <div class=\"colab-df-buttons\">\n",
              "\n",
              "  <div class=\"colab-df-container\">\n",
              "    <button class=\"colab-df-convert\" onclick=\"convertToInteractive('df-656c2b22-88a4-474a-ab7c-948553b112c9')\"\n",
              "            title=\"Convert this dataframe to an interactive table.\"\n",
              "            style=\"display:none;\">\n",
              "\n",
              "  <svg xmlns=\"http://www.w3.org/2000/svg\" height=\"24px\" viewBox=\"0 -960 960 960\">\n",
              "    <path d=\"M120-120v-720h720v720H120Zm60-500h600v-160H180v160Zm220 220h160v-160H400v160Zm0 220h160v-160H400v160ZM180-400h160v-160H180v160Zm440 0h160v-160H620v160ZM180-180h160v-160H180v160Zm440 0h160v-160H620v160Z\"/>\n",
              "  </svg>\n",
              "    </button>\n",
              "\n",
              "  <style>\n",
              "    .colab-df-container {\n",
              "      display:flex;\n",
              "      gap: 12px;\n",
              "    }\n",
              "\n",
              "    .colab-df-convert {\n",
              "      background-color: #E8F0FE;\n",
              "      border: none;\n",
              "      border-radius: 50%;\n",
              "      cursor: pointer;\n",
              "      display: none;\n",
              "      fill: #1967D2;\n",
              "      height: 32px;\n",
              "      padding: 0 0 0 0;\n",
              "      width: 32px;\n",
              "    }\n",
              "\n",
              "    .colab-df-convert:hover {\n",
              "      background-color: #E2EBFA;\n",
              "      box-shadow: 0px 1px 2px rgba(60, 64, 67, 0.3), 0px 1px 3px 1px rgba(60, 64, 67, 0.15);\n",
              "      fill: #174EA6;\n",
              "    }\n",
              "\n",
              "    .colab-df-buttons div {\n",
              "      margin-bottom: 4px;\n",
              "    }\n",
              "\n",
              "    [theme=dark] .colab-df-convert {\n",
              "      background-color: #3B4455;\n",
              "      fill: #D2E3FC;\n",
              "    }\n",
              "\n",
              "    [theme=dark] .colab-df-convert:hover {\n",
              "      background-color: #434B5C;\n",
              "      box-shadow: 0px 1px 3px 1px rgba(0, 0, 0, 0.15);\n",
              "      filter: drop-shadow(0px 1px 2px rgba(0, 0, 0, 0.3));\n",
              "      fill: #FFFFFF;\n",
              "    }\n",
              "  </style>\n",
              "\n",
              "    <script>\n",
              "      const buttonEl =\n",
              "        document.querySelector('#df-656c2b22-88a4-474a-ab7c-948553b112c9 button.colab-df-convert');\n",
              "      buttonEl.style.display =\n",
              "        google.colab.kernel.accessAllowed ? 'block' : 'none';\n",
              "\n",
              "      async function convertToInteractive(key) {\n",
              "        const element = document.querySelector('#df-656c2b22-88a4-474a-ab7c-948553b112c9');\n",
              "        const dataTable =\n",
              "          await google.colab.kernel.invokeFunction('convertToInteractive',\n",
              "                                                    [key], {});\n",
              "        if (!dataTable) return;\n",
              "\n",
              "        const docLinkHtml = 'Like what you see? Visit the ' +\n",
              "          '<a target=\"_blank\" href=https://colab.research.google.com/notebooks/data_table.ipynb>data table notebook</a>'\n",
              "          + ' to learn more about interactive tables.';\n",
              "        element.innerHTML = '';\n",
              "        dataTable['output_type'] = 'display_data';\n",
              "        await google.colab.output.renderOutput(dataTable, element);\n",
              "        const docLink = document.createElement('div');\n",
              "        docLink.innerHTML = docLinkHtml;\n",
              "        element.appendChild(docLink);\n",
              "      }\n",
              "    </script>\n",
              "  </div>\n",
              "\n",
              "\n",
              "<div id=\"df-68bd4e45-59ca-44a7-afbd-e79f7df0a447\">\n",
              "  <button class=\"colab-df-quickchart\" onclick=\"quickchart('df-68bd4e45-59ca-44a7-afbd-e79f7df0a447')\"\n",
              "            title=\"Suggest charts\"\n",
              "            style=\"display:none;\">\n",
              "\n",
              "<svg xmlns=\"http://www.w3.org/2000/svg\" height=\"24px\"viewBox=\"0 0 24 24\"\n",
              "     width=\"24px\">\n",
              "    <g>\n",
              "        <path d=\"M19 3H5c-1.1 0-2 .9-2 2v14c0 1.1.9 2 2 2h14c1.1 0 2-.9 2-2V5c0-1.1-.9-2-2-2zM9 17H7v-7h2v7zm4 0h-2V7h2v10zm4 0h-2v-4h2v4z\"/>\n",
              "    </g>\n",
              "</svg>\n",
              "  </button>\n",
              "\n",
              "<style>\n",
              "  .colab-df-quickchart {\n",
              "      --bg-color: #E8F0FE;\n",
              "      --fill-color: #1967D2;\n",
              "      --hover-bg-color: #E2EBFA;\n",
              "      --hover-fill-color: #174EA6;\n",
              "      --disabled-fill-color: #AAA;\n",
              "      --disabled-bg-color: #DDD;\n",
              "  }\n",
              "\n",
              "  [theme=dark] .colab-df-quickchart {\n",
              "      --bg-color: #3B4455;\n",
              "      --fill-color: #D2E3FC;\n",
              "      --hover-bg-color: #434B5C;\n",
              "      --hover-fill-color: #FFFFFF;\n",
              "      --disabled-bg-color: #3B4455;\n",
              "      --disabled-fill-color: #666;\n",
              "  }\n",
              "\n",
              "  .colab-df-quickchart {\n",
              "    background-color: var(--bg-color);\n",
              "    border: none;\n",
              "    border-radius: 50%;\n",
              "    cursor: pointer;\n",
              "    display: none;\n",
              "    fill: var(--fill-color);\n",
              "    height: 32px;\n",
              "    padding: 0;\n",
              "    width: 32px;\n",
              "  }\n",
              "\n",
              "  .colab-df-quickchart:hover {\n",
              "    background-color: var(--hover-bg-color);\n",
              "    box-shadow: 0 1px 2px rgba(60, 64, 67, 0.3), 0 1px 3px 1px rgba(60, 64, 67, 0.15);\n",
              "    fill: var(--button-hover-fill-color);\n",
              "  }\n",
              "\n",
              "  .colab-df-quickchart-complete:disabled,\n",
              "  .colab-df-quickchart-complete:disabled:hover {\n",
              "    background-color: var(--disabled-bg-color);\n",
              "    fill: var(--disabled-fill-color);\n",
              "    box-shadow: none;\n",
              "  }\n",
              "\n",
              "  .colab-df-spinner {\n",
              "    border: 2px solid var(--fill-color);\n",
              "    border-color: transparent;\n",
              "    border-bottom-color: var(--fill-color);\n",
              "    animation:\n",
              "      spin 1s steps(1) infinite;\n",
              "  }\n",
              "\n",
              "  @keyframes spin {\n",
              "    0% {\n",
              "      border-color: transparent;\n",
              "      border-bottom-color: var(--fill-color);\n",
              "      border-left-color: var(--fill-color);\n",
              "    }\n",
              "    20% {\n",
              "      border-color: transparent;\n",
              "      border-left-color: var(--fill-color);\n",
              "      border-top-color: var(--fill-color);\n",
              "    }\n",
              "    30% {\n",
              "      border-color: transparent;\n",
              "      border-left-color: var(--fill-color);\n",
              "      border-top-color: var(--fill-color);\n",
              "      border-right-color: var(--fill-color);\n",
              "    }\n",
              "    40% {\n",
              "      border-color: transparent;\n",
              "      border-right-color: var(--fill-color);\n",
              "      border-top-color: var(--fill-color);\n",
              "    }\n",
              "    60% {\n",
              "      border-color: transparent;\n",
              "      border-right-color: var(--fill-color);\n",
              "    }\n",
              "    80% {\n",
              "      border-color: transparent;\n",
              "      border-right-color: var(--fill-color);\n",
              "      border-bottom-color: var(--fill-color);\n",
              "    }\n",
              "    90% {\n",
              "      border-color: transparent;\n",
              "      border-bottom-color: var(--fill-color);\n",
              "    }\n",
              "  }\n",
              "</style>\n",
              "\n",
              "  <script>\n",
              "    async function quickchart(key) {\n",
              "      const quickchartButtonEl =\n",
              "        document.querySelector('#' + key + ' button');\n",
              "      quickchartButtonEl.disabled = true;  // To prevent multiple clicks.\n",
              "      quickchartButtonEl.classList.add('colab-df-spinner');\n",
              "      try {\n",
              "        const charts = await google.colab.kernel.invokeFunction(\n",
              "            'suggestCharts', [key], {});\n",
              "      } catch (error) {\n",
              "        console.error('Error during call to suggestCharts:', error);\n",
              "      }\n",
              "      quickchartButtonEl.classList.remove('colab-df-spinner');\n",
              "      quickchartButtonEl.classList.add('colab-df-quickchart-complete');\n",
              "    }\n",
              "    (() => {\n",
              "      let quickchartButtonEl =\n",
              "        document.querySelector('#df-68bd4e45-59ca-44a7-afbd-e79f7df0a447 button');\n",
              "      quickchartButtonEl.style.display =\n",
              "        google.colab.kernel.accessAllowed ? 'block' : 'none';\n",
              "    })();\n",
              "  </script>\n",
              "</div>\n",
              "\n",
              "    </div>\n",
              "  </div>\n"
            ],
            "application/vnd.google.colaboratory.intrinsic+json": {
              "type": "dataframe",
              "summary": "{\n  \"name\": \"train\",\n  \"rows\": 4,\n  \"fields\": [\n    {\n      \"column\": \"protocol_type\",\n      \"properties\": {\n        \"dtype\": \"string\",\n        \"num_unique_values\": 4,\n        \"samples\": [\n          3,\n          \"20526\",\n          \"25192\"\n        ],\n        \"semantic_type\": \"\",\n        \"description\": \"\"\n      }\n    },\n    {\n      \"column\": \"service\",\n      \"properties\": {\n        \"dtype\": \"string\",\n        \"num_unique_values\": 4,\n        \"samples\": [\n          66,\n          \"8003\",\n          \"25192\"\n        ],\n        \"semantic_type\": \"\",\n        \"description\": \"\"\n      }\n    },\n    {\n      \"column\": \"flag\",\n      \"properties\": {\n        \"dtype\": \"string\",\n        \"num_unique_values\": 4,\n        \"samples\": [\n          11,\n          \"14973\",\n          \"25192\"\n        ],\n        \"semantic_type\": \"\",\n        \"description\": \"\"\n      }\n    },\n    {\n      \"column\": \"class\",\n      \"properties\": {\n        \"dtype\": \"string\",\n        \"num_unique_values\": 4,\n        \"samples\": [\n          2,\n          \"13449\",\n          \"25192\"\n        ],\n        \"semantic_type\": \"\",\n        \"description\": \"\"\n      }\n    }\n  ]\n}"
            }
          },
          "metadata": {},
          "execution_count": 9
        }
      ]
    },
    {
      "cell_type": "code",
      "source": [
        "train.isnull().sum()"
      ],
      "metadata": {
        "colab": {
          "base_uri": "https://localhost:8080/"
        },
        "id": "2Ueq0xdah9n4",
        "outputId": "d09a3ac1-2cac-4e45-c576-c300e7d494e4"
      },
      "execution_count": null,
      "outputs": [
        {
          "output_type": "execute_result",
          "data": {
            "text/plain": [
              "duration                       0\n",
              "protocol_type                  0\n",
              "service                        0\n",
              "flag                           0\n",
              "src_bytes                      0\n",
              "dst_bytes                      0\n",
              "land                           0\n",
              "wrong_fragment                 0\n",
              "urgent                         0\n",
              "hot                            0\n",
              "num_failed_logins              0\n",
              "logged_in                      0\n",
              "num_compromised                0\n",
              "root_shell                     0\n",
              "su_attempted                   0\n",
              "num_root                       0\n",
              "num_file_creations             0\n",
              "num_shells                     0\n",
              "num_access_files               0\n",
              "num_outbound_cmds              0\n",
              "is_host_login                  0\n",
              "is_guest_login                 0\n",
              "count                          0\n",
              "srv_count                      0\n",
              "serror_rate                    0\n",
              "srv_serror_rate                0\n",
              "rerror_rate                    0\n",
              "srv_rerror_rate                0\n",
              "same_srv_rate                  0\n",
              "diff_srv_rate                  0\n",
              "srv_diff_host_rate             0\n",
              "dst_host_count                 0\n",
              "dst_host_srv_count             0\n",
              "dst_host_same_srv_rate         0\n",
              "dst_host_diff_srv_rate         0\n",
              "dst_host_same_src_port_rate    0\n",
              "dst_host_srv_diff_host_rate    0\n",
              "dst_host_serror_rate           0\n",
              "dst_host_srv_serror_rate       0\n",
              "dst_host_rerror_rate           0\n",
              "dst_host_srv_rerror_rate       0\n",
              "class                          0\n",
              "dtype: int64"
            ]
          },
          "metadata": {},
          "execution_count": 10
        }
      ]
    },
    {
      "cell_type": "code",
      "source": [
        "total = train.shape[0]\n",
        "missing_columns = [col for col in train.columns if train[col].isnull().sum() > 0]\n",
        "for col in missing_columns:\n",
        "    null_count = train[col].isnull().sum()\n",
        "    per = (null_count/total) * 100\n",
        "    print(f\"{col}: {null_count} ({round(per, 3)}%)\")\n",
        "print(f\"Number of duplicate rows: {train.duplicated().sum()}\")"
      ],
      "metadata": {
        "colab": {
          "base_uri": "https://localhost:8080/"
        },
        "id": "M1mfUpKOiI7j",
        "outputId": "028c3eb4-5e2a-47c0-d5aa-4c7d99a37346"
      },
      "execution_count": null,
      "outputs": [
        {
          "output_type": "stream",
          "name": "stdout",
          "text": [
            "Number of duplicate rows: 0\n"
          ]
        }
      ]
    },
    {
      "cell_type": "code",
      "source": [
        "train.replace([np.inf, -np.inf], np.nan, inplace=True)\n",
        "train.dropna(inplace=True)\n",
        "numeric_cols = train.select_dtypes(include=np.number).columns.tolist()\n",
        "train[numeric_cols].replace([np.inf, -np.inf], np.nan, inplace=True)\n",
        "train.dropna(inplace=True)"
      ],
      "metadata": {
        "id": "KpIWDPCniLBk"
      },
      "execution_count": null,
      "outputs": []
    },
    {
      "cell_type": "code",
      "source": [
        "train"
      ],
      "metadata": {
        "colab": {
          "base_uri": "https://localhost:8080/",
          "height": 444
        },
        "id": "3wUt7tZyiNr6",
        "outputId": "d37d04b2-ef45-4c5a-d946-a18931d193b4"
      },
      "execution_count": null,
      "outputs": [
        {
          "output_type": "execute_result",
          "data": {
            "text/plain": [
              "       duration protocol_type   service  flag  src_bytes  dst_bytes  land  \\\n",
              "0             0           tcp  ftp_data    SF        491          0     0   \n",
              "1             0           udp     other    SF        146          0     0   \n",
              "2             0           tcp   private    S0          0          0     0   \n",
              "3             0           tcp      http    SF        232       8153     0   \n",
              "4             0           tcp      http    SF        199        420     0   \n",
              "...         ...           ...       ...   ...        ...        ...   ...   \n",
              "25187         0           tcp      exec  RSTO          0          0     0   \n",
              "25188         0           tcp  ftp_data    SF        334          0     0   \n",
              "25189         0           tcp   private   REJ          0          0     0   \n",
              "25190         0           tcp      nnsp    S0          0          0     0   \n",
              "25191         0           tcp    finger    S0          0          0     0   \n",
              "\n",
              "       wrong_fragment  urgent  hot  ...  dst_host_srv_count  \\\n",
              "0                   0       0    0  ...                  25   \n",
              "1                   0       0    0  ...                   1   \n",
              "2                   0       0    0  ...                  26   \n",
              "3                   0       0    0  ...                 255   \n",
              "4                   0       0    0  ...                 255   \n",
              "...               ...     ...  ...  ...                 ...   \n",
              "25187               0       0    0  ...                   7   \n",
              "25188               0       0    0  ...                  39   \n",
              "25189               0       0    0  ...                  13   \n",
              "25190               0       0    0  ...                  20   \n",
              "25191               0       0    0  ...                  49   \n",
              "\n",
              "       dst_host_same_srv_rate  dst_host_diff_srv_rate  \\\n",
              "0                        0.17                    0.03   \n",
              "1                        0.00                    0.60   \n",
              "2                        0.10                    0.05   \n",
              "3                        1.00                    0.00   \n",
              "4                        1.00                    0.00   \n",
              "...                       ...                     ...   \n",
              "25187                    0.03                    0.06   \n",
              "25188                    1.00                    0.00   \n",
              "25189                    0.05                    0.07   \n",
              "25190                    0.08                    0.06   \n",
              "25191                    0.19                    0.03   \n",
              "\n",
              "       dst_host_same_src_port_rate  dst_host_srv_diff_host_rate  \\\n",
              "0                             0.17                         0.00   \n",
              "1                             0.88                         0.00   \n",
              "2                             0.00                         0.00   \n",
              "3                             0.03                         0.04   \n",
              "4                             0.00                         0.00   \n",
              "...                            ...                          ...   \n",
              "25187                         0.00                         0.00   \n",
              "25188                         1.00                         0.18   \n",
              "25189                         0.00                         0.00   \n",
              "25190                         0.00                         0.00   \n",
              "25191                         0.01                         0.00   \n",
              "\n",
              "       dst_host_serror_rate  dst_host_srv_serror_rate  dst_host_rerror_rate  \\\n",
              "0                      0.00                      0.00                  0.05   \n",
              "1                      0.00                      0.00                  0.00   \n",
              "2                      1.00                      1.00                  0.00   \n",
              "3                      0.03                      0.01                  0.00   \n",
              "4                      0.00                      0.00                  0.00   \n",
              "...                     ...                       ...                   ...   \n",
              "25187                  0.00                      0.00                  1.00   \n",
              "25188                  0.00                      0.00                  0.00   \n",
              "25189                  0.00                      0.00                  1.00   \n",
              "25190                  1.00                      1.00                  0.00   \n",
              "25191                  1.00                      1.00                  0.00   \n",
              "\n",
              "       dst_host_srv_rerror_rate    class  \n",
              "0                          0.00   normal  \n",
              "1                          0.00   normal  \n",
              "2                          0.00  anomaly  \n",
              "3                          0.01   normal  \n",
              "4                          0.00   normal  \n",
              "...                         ...      ...  \n",
              "25187                      1.00  anomaly  \n",
              "25188                      0.00  anomaly  \n",
              "25189                      1.00  anomaly  \n",
              "25190                      0.00  anomaly  \n",
              "25191                      0.00  anomaly  \n",
              "\n",
              "[25192 rows x 42 columns]"
            ],
            "text/html": [
              "\n",
              "  <div id=\"df-17c31fa2-c47e-4690-8439-6f14caf322c6\" class=\"colab-df-container\">\n",
              "    <div>\n",
              "<style scoped>\n",
              "    .dataframe tbody tr th:only-of-type {\n",
              "        vertical-align: middle;\n",
              "    }\n",
              "\n",
              "    .dataframe tbody tr th {\n",
              "        vertical-align: top;\n",
              "    }\n",
              "\n",
              "    .dataframe thead th {\n",
              "        text-align: right;\n",
              "    }\n",
              "</style>\n",
              "<table border=\"1\" class=\"dataframe\">\n",
              "  <thead>\n",
              "    <tr style=\"text-align: right;\">\n",
              "      <th></th>\n",
              "      <th>duration</th>\n",
              "      <th>protocol_type</th>\n",
              "      <th>service</th>\n",
              "      <th>flag</th>\n",
              "      <th>src_bytes</th>\n",
              "      <th>dst_bytes</th>\n",
              "      <th>land</th>\n",
              "      <th>wrong_fragment</th>\n",
              "      <th>urgent</th>\n",
              "      <th>hot</th>\n",
              "      <th>...</th>\n",
              "      <th>dst_host_srv_count</th>\n",
              "      <th>dst_host_same_srv_rate</th>\n",
              "      <th>dst_host_diff_srv_rate</th>\n",
              "      <th>dst_host_same_src_port_rate</th>\n",
              "      <th>dst_host_srv_diff_host_rate</th>\n",
              "      <th>dst_host_serror_rate</th>\n",
              "      <th>dst_host_srv_serror_rate</th>\n",
              "      <th>dst_host_rerror_rate</th>\n",
              "      <th>dst_host_srv_rerror_rate</th>\n",
              "      <th>class</th>\n",
              "    </tr>\n",
              "  </thead>\n",
              "  <tbody>\n",
              "    <tr>\n",
              "      <th>0</th>\n",
              "      <td>0</td>\n",
              "      <td>tcp</td>\n",
              "      <td>ftp_data</td>\n",
              "      <td>SF</td>\n",
              "      <td>491</td>\n",
              "      <td>0</td>\n",
              "      <td>0</td>\n",
              "      <td>0</td>\n",
              "      <td>0</td>\n",
              "      <td>0</td>\n",
              "      <td>...</td>\n",
              "      <td>25</td>\n",
              "      <td>0.17</td>\n",
              "      <td>0.03</td>\n",
              "      <td>0.17</td>\n",
              "      <td>0.00</td>\n",
              "      <td>0.00</td>\n",
              "      <td>0.00</td>\n",
              "      <td>0.05</td>\n",
              "      <td>0.00</td>\n",
              "      <td>normal</td>\n",
              "    </tr>\n",
              "    <tr>\n",
              "      <th>1</th>\n",
              "      <td>0</td>\n",
              "      <td>udp</td>\n",
              "      <td>other</td>\n",
              "      <td>SF</td>\n",
              "      <td>146</td>\n",
              "      <td>0</td>\n",
              "      <td>0</td>\n",
              "      <td>0</td>\n",
              "      <td>0</td>\n",
              "      <td>0</td>\n",
              "      <td>...</td>\n",
              "      <td>1</td>\n",
              "      <td>0.00</td>\n",
              "      <td>0.60</td>\n",
              "      <td>0.88</td>\n",
              "      <td>0.00</td>\n",
              "      <td>0.00</td>\n",
              "      <td>0.00</td>\n",
              "      <td>0.00</td>\n",
              "      <td>0.00</td>\n",
              "      <td>normal</td>\n",
              "    </tr>\n",
              "    <tr>\n",
              "      <th>2</th>\n",
              "      <td>0</td>\n",
              "      <td>tcp</td>\n",
              "      <td>private</td>\n",
              "      <td>S0</td>\n",
              "      <td>0</td>\n",
              "      <td>0</td>\n",
              "      <td>0</td>\n",
              "      <td>0</td>\n",
              "      <td>0</td>\n",
              "      <td>0</td>\n",
              "      <td>...</td>\n",
              "      <td>26</td>\n",
              "      <td>0.10</td>\n",
              "      <td>0.05</td>\n",
              "      <td>0.00</td>\n",
              "      <td>0.00</td>\n",
              "      <td>1.00</td>\n",
              "      <td>1.00</td>\n",
              "      <td>0.00</td>\n",
              "      <td>0.00</td>\n",
              "      <td>anomaly</td>\n",
              "    </tr>\n",
              "    <tr>\n",
              "      <th>3</th>\n",
              "      <td>0</td>\n",
              "      <td>tcp</td>\n",
              "      <td>http</td>\n",
              "      <td>SF</td>\n",
              "      <td>232</td>\n",
              "      <td>8153</td>\n",
              "      <td>0</td>\n",
              "      <td>0</td>\n",
              "      <td>0</td>\n",
              "      <td>0</td>\n",
              "      <td>...</td>\n",
              "      <td>255</td>\n",
              "      <td>1.00</td>\n",
              "      <td>0.00</td>\n",
              "      <td>0.03</td>\n",
              "      <td>0.04</td>\n",
              "      <td>0.03</td>\n",
              "      <td>0.01</td>\n",
              "      <td>0.00</td>\n",
              "      <td>0.01</td>\n",
              "      <td>normal</td>\n",
              "    </tr>\n",
              "    <tr>\n",
              "      <th>4</th>\n",
              "      <td>0</td>\n",
              "      <td>tcp</td>\n",
              "      <td>http</td>\n",
              "      <td>SF</td>\n",
              "      <td>199</td>\n",
              "      <td>420</td>\n",
              "      <td>0</td>\n",
              "      <td>0</td>\n",
              "      <td>0</td>\n",
              "      <td>0</td>\n",
              "      <td>...</td>\n",
              "      <td>255</td>\n",
              "      <td>1.00</td>\n",
              "      <td>0.00</td>\n",
              "      <td>0.00</td>\n",
              "      <td>0.00</td>\n",
              "      <td>0.00</td>\n",
              "      <td>0.00</td>\n",
              "      <td>0.00</td>\n",
              "      <td>0.00</td>\n",
              "      <td>normal</td>\n",
              "    </tr>\n",
              "    <tr>\n",
              "      <th>...</th>\n",
              "      <td>...</td>\n",
              "      <td>...</td>\n",
              "      <td>...</td>\n",
              "      <td>...</td>\n",
              "      <td>...</td>\n",
              "      <td>...</td>\n",
              "      <td>...</td>\n",
              "      <td>...</td>\n",
              "      <td>...</td>\n",
              "      <td>...</td>\n",
              "      <td>...</td>\n",
              "      <td>...</td>\n",
              "      <td>...</td>\n",
              "      <td>...</td>\n",
              "      <td>...</td>\n",
              "      <td>...</td>\n",
              "      <td>...</td>\n",
              "      <td>...</td>\n",
              "      <td>...</td>\n",
              "      <td>...</td>\n",
              "      <td>...</td>\n",
              "    </tr>\n",
              "    <tr>\n",
              "      <th>25187</th>\n",
              "      <td>0</td>\n",
              "      <td>tcp</td>\n",
              "      <td>exec</td>\n",
              "      <td>RSTO</td>\n",
              "      <td>0</td>\n",
              "      <td>0</td>\n",
              "      <td>0</td>\n",
              "      <td>0</td>\n",
              "      <td>0</td>\n",
              "      <td>0</td>\n",
              "      <td>...</td>\n",
              "      <td>7</td>\n",
              "      <td>0.03</td>\n",
              "      <td>0.06</td>\n",
              "      <td>0.00</td>\n",
              "      <td>0.00</td>\n",
              "      <td>0.00</td>\n",
              "      <td>0.00</td>\n",
              "      <td>1.00</td>\n",
              "      <td>1.00</td>\n",
              "      <td>anomaly</td>\n",
              "    </tr>\n",
              "    <tr>\n",
              "      <th>25188</th>\n",
              "      <td>0</td>\n",
              "      <td>tcp</td>\n",
              "      <td>ftp_data</td>\n",
              "      <td>SF</td>\n",
              "      <td>334</td>\n",
              "      <td>0</td>\n",
              "      <td>0</td>\n",
              "      <td>0</td>\n",
              "      <td>0</td>\n",
              "      <td>0</td>\n",
              "      <td>...</td>\n",
              "      <td>39</td>\n",
              "      <td>1.00</td>\n",
              "      <td>0.00</td>\n",
              "      <td>1.00</td>\n",
              "      <td>0.18</td>\n",
              "      <td>0.00</td>\n",
              "      <td>0.00</td>\n",
              "      <td>0.00</td>\n",
              "      <td>0.00</td>\n",
              "      <td>anomaly</td>\n",
              "    </tr>\n",
              "    <tr>\n",
              "      <th>25189</th>\n",
              "      <td>0</td>\n",
              "      <td>tcp</td>\n",
              "      <td>private</td>\n",
              "      <td>REJ</td>\n",
              "      <td>0</td>\n",
              "      <td>0</td>\n",
              "      <td>0</td>\n",
              "      <td>0</td>\n",
              "      <td>0</td>\n",
              "      <td>0</td>\n",
              "      <td>...</td>\n",
              "      <td>13</td>\n",
              "      <td>0.05</td>\n",
              "      <td>0.07</td>\n",
              "      <td>0.00</td>\n",
              "      <td>0.00</td>\n",
              "      <td>0.00</td>\n",
              "      <td>0.00</td>\n",
              "      <td>1.00</td>\n",
              "      <td>1.00</td>\n",
              "      <td>anomaly</td>\n",
              "    </tr>\n",
              "    <tr>\n",
              "      <th>25190</th>\n",
              "      <td>0</td>\n",
              "      <td>tcp</td>\n",
              "      <td>nnsp</td>\n",
              "      <td>S0</td>\n",
              "      <td>0</td>\n",
              "      <td>0</td>\n",
              "      <td>0</td>\n",
              "      <td>0</td>\n",
              "      <td>0</td>\n",
              "      <td>0</td>\n",
              "      <td>...</td>\n",
              "      <td>20</td>\n",
              "      <td>0.08</td>\n",
              "      <td>0.06</td>\n",
              "      <td>0.00</td>\n",
              "      <td>0.00</td>\n",
              "      <td>1.00</td>\n",
              "      <td>1.00</td>\n",
              "      <td>0.00</td>\n",
              "      <td>0.00</td>\n",
              "      <td>anomaly</td>\n",
              "    </tr>\n",
              "    <tr>\n",
              "      <th>25191</th>\n",
              "      <td>0</td>\n",
              "      <td>tcp</td>\n",
              "      <td>finger</td>\n",
              "      <td>S0</td>\n",
              "      <td>0</td>\n",
              "      <td>0</td>\n",
              "      <td>0</td>\n",
              "      <td>0</td>\n",
              "      <td>0</td>\n",
              "      <td>0</td>\n",
              "      <td>...</td>\n",
              "      <td>49</td>\n",
              "      <td>0.19</td>\n",
              "      <td>0.03</td>\n",
              "      <td>0.01</td>\n",
              "      <td>0.00</td>\n",
              "      <td>1.00</td>\n",
              "      <td>1.00</td>\n",
              "      <td>0.00</td>\n",
              "      <td>0.00</td>\n",
              "      <td>anomaly</td>\n",
              "    </tr>\n",
              "  </tbody>\n",
              "</table>\n",
              "<p>25192 rows × 42 columns</p>\n",
              "</div>\n",
              "    <div class=\"colab-df-buttons\">\n",
              "\n",
              "  <div class=\"colab-df-container\">\n",
              "    <button class=\"colab-df-convert\" onclick=\"convertToInteractive('df-17c31fa2-c47e-4690-8439-6f14caf322c6')\"\n",
              "            title=\"Convert this dataframe to an interactive table.\"\n",
              "            style=\"display:none;\">\n",
              "\n",
              "  <svg xmlns=\"http://www.w3.org/2000/svg\" height=\"24px\" viewBox=\"0 -960 960 960\">\n",
              "    <path d=\"M120-120v-720h720v720H120Zm60-500h600v-160H180v160Zm220 220h160v-160H400v160Zm0 220h160v-160H400v160ZM180-400h160v-160H180v160Zm440 0h160v-160H620v160ZM180-180h160v-160H180v160Zm440 0h160v-160H620v160Z\"/>\n",
              "  </svg>\n",
              "    </button>\n",
              "\n",
              "  <style>\n",
              "    .colab-df-container {\n",
              "      display:flex;\n",
              "      gap: 12px;\n",
              "    }\n",
              "\n",
              "    .colab-df-convert {\n",
              "      background-color: #E8F0FE;\n",
              "      border: none;\n",
              "      border-radius: 50%;\n",
              "      cursor: pointer;\n",
              "      display: none;\n",
              "      fill: #1967D2;\n",
              "      height: 32px;\n",
              "      padding: 0 0 0 0;\n",
              "      width: 32px;\n",
              "    }\n",
              "\n",
              "    .colab-df-convert:hover {\n",
              "      background-color: #E2EBFA;\n",
              "      box-shadow: 0px 1px 2px rgba(60, 64, 67, 0.3), 0px 1px 3px 1px rgba(60, 64, 67, 0.15);\n",
              "      fill: #174EA6;\n",
              "    }\n",
              "\n",
              "    .colab-df-buttons div {\n",
              "      margin-bottom: 4px;\n",
              "    }\n",
              "\n",
              "    [theme=dark] .colab-df-convert {\n",
              "      background-color: #3B4455;\n",
              "      fill: #D2E3FC;\n",
              "    }\n",
              "\n",
              "    [theme=dark] .colab-df-convert:hover {\n",
              "      background-color: #434B5C;\n",
              "      box-shadow: 0px 1px 3px 1px rgba(0, 0, 0, 0.15);\n",
              "      filter: drop-shadow(0px 1px 2px rgba(0, 0, 0, 0.3));\n",
              "      fill: #FFFFFF;\n",
              "    }\n",
              "  </style>\n",
              "\n",
              "    <script>\n",
              "      const buttonEl =\n",
              "        document.querySelector('#df-17c31fa2-c47e-4690-8439-6f14caf322c6 button.colab-df-convert');\n",
              "      buttonEl.style.display =\n",
              "        google.colab.kernel.accessAllowed ? 'block' : 'none';\n",
              "\n",
              "      async function convertToInteractive(key) {\n",
              "        const element = document.querySelector('#df-17c31fa2-c47e-4690-8439-6f14caf322c6');\n",
              "        const dataTable =\n",
              "          await google.colab.kernel.invokeFunction('convertToInteractive',\n",
              "                                                    [key], {});\n",
              "        if (!dataTable) return;\n",
              "\n",
              "        const docLinkHtml = 'Like what you see? Visit the ' +\n",
              "          '<a target=\"_blank\" href=https://colab.research.google.com/notebooks/data_table.ipynb>data table notebook</a>'\n",
              "          + ' to learn more about interactive tables.';\n",
              "        element.innerHTML = '';\n",
              "        dataTable['output_type'] = 'display_data';\n",
              "        await google.colab.output.renderOutput(dataTable, element);\n",
              "        const docLink = document.createElement('div');\n",
              "        docLink.innerHTML = docLinkHtml;\n",
              "        element.appendChild(docLink);\n",
              "      }\n",
              "    </script>\n",
              "  </div>\n",
              "\n",
              "\n",
              "<div id=\"df-87238b1f-afea-4f01-918b-e9aa9c9c9395\">\n",
              "  <button class=\"colab-df-quickchart\" onclick=\"quickchart('df-87238b1f-afea-4f01-918b-e9aa9c9c9395')\"\n",
              "            title=\"Suggest charts\"\n",
              "            style=\"display:none;\">\n",
              "\n",
              "<svg xmlns=\"http://www.w3.org/2000/svg\" height=\"24px\"viewBox=\"0 0 24 24\"\n",
              "     width=\"24px\">\n",
              "    <g>\n",
              "        <path d=\"M19 3H5c-1.1 0-2 .9-2 2v14c0 1.1.9 2 2 2h14c1.1 0 2-.9 2-2V5c0-1.1-.9-2-2-2zM9 17H7v-7h2v7zm4 0h-2V7h2v10zm4 0h-2v-4h2v4z\"/>\n",
              "    </g>\n",
              "</svg>\n",
              "  </button>\n",
              "\n",
              "<style>\n",
              "  .colab-df-quickchart {\n",
              "      --bg-color: #E8F0FE;\n",
              "      --fill-color: #1967D2;\n",
              "      --hover-bg-color: #E2EBFA;\n",
              "      --hover-fill-color: #174EA6;\n",
              "      --disabled-fill-color: #AAA;\n",
              "      --disabled-bg-color: #DDD;\n",
              "  }\n",
              "\n",
              "  [theme=dark] .colab-df-quickchart {\n",
              "      --bg-color: #3B4455;\n",
              "      --fill-color: #D2E3FC;\n",
              "      --hover-bg-color: #434B5C;\n",
              "      --hover-fill-color: #FFFFFF;\n",
              "      --disabled-bg-color: #3B4455;\n",
              "      --disabled-fill-color: #666;\n",
              "  }\n",
              "\n",
              "  .colab-df-quickchart {\n",
              "    background-color: var(--bg-color);\n",
              "    border: none;\n",
              "    border-radius: 50%;\n",
              "    cursor: pointer;\n",
              "    display: none;\n",
              "    fill: var(--fill-color);\n",
              "    height: 32px;\n",
              "    padding: 0;\n",
              "    width: 32px;\n",
              "  }\n",
              "\n",
              "  .colab-df-quickchart:hover {\n",
              "    background-color: var(--hover-bg-color);\n",
              "    box-shadow: 0 1px 2px rgba(60, 64, 67, 0.3), 0 1px 3px 1px rgba(60, 64, 67, 0.15);\n",
              "    fill: var(--button-hover-fill-color);\n",
              "  }\n",
              "\n",
              "  .colab-df-quickchart-complete:disabled,\n",
              "  .colab-df-quickchart-complete:disabled:hover {\n",
              "    background-color: var(--disabled-bg-color);\n",
              "    fill: var(--disabled-fill-color);\n",
              "    box-shadow: none;\n",
              "  }\n",
              "\n",
              "  .colab-df-spinner {\n",
              "    border: 2px solid var(--fill-color);\n",
              "    border-color: transparent;\n",
              "    border-bottom-color: var(--fill-color);\n",
              "    animation:\n",
              "      spin 1s steps(1) infinite;\n",
              "  }\n",
              "\n",
              "  @keyframes spin {\n",
              "    0% {\n",
              "      border-color: transparent;\n",
              "      border-bottom-color: var(--fill-color);\n",
              "      border-left-color: var(--fill-color);\n",
              "    }\n",
              "    20% {\n",
              "      border-color: transparent;\n",
              "      border-left-color: var(--fill-color);\n",
              "      border-top-color: var(--fill-color);\n",
              "    }\n",
              "    30% {\n",
              "      border-color: transparent;\n",
              "      border-left-color: var(--fill-color);\n",
              "      border-top-color: var(--fill-color);\n",
              "      border-right-color: var(--fill-color);\n",
              "    }\n",
              "    40% {\n",
              "      border-color: transparent;\n",
              "      border-right-color: var(--fill-color);\n",
              "      border-top-color: var(--fill-color);\n",
              "    }\n",
              "    60% {\n",
              "      border-color: transparent;\n",
              "      border-right-color: var(--fill-color);\n",
              "    }\n",
              "    80% {\n",
              "      border-color: transparent;\n",
              "      border-right-color: var(--fill-color);\n",
              "      border-bottom-color: var(--fill-color);\n",
              "    }\n",
              "    90% {\n",
              "      border-color: transparent;\n",
              "      border-bottom-color: var(--fill-color);\n",
              "    }\n",
              "  }\n",
              "</style>\n",
              "\n",
              "  <script>\n",
              "    async function quickchart(key) {\n",
              "      const quickchartButtonEl =\n",
              "        document.querySelector('#' + key + ' button');\n",
              "      quickchartButtonEl.disabled = true;  // To prevent multiple clicks.\n",
              "      quickchartButtonEl.classList.add('colab-df-spinner');\n",
              "      try {\n",
              "        const charts = await google.colab.kernel.invokeFunction(\n",
              "            'suggestCharts', [key], {});\n",
              "      } catch (error) {\n",
              "        console.error('Error during call to suggestCharts:', error);\n",
              "      }\n",
              "      quickchartButtonEl.classList.remove('colab-df-spinner');\n",
              "      quickchartButtonEl.classList.add('colab-df-quickchart-complete');\n",
              "    }\n",
              "    (() => {\n",
              "      let quickchartButtonEl =\n",
              "        document.querySelector('#df-87238b1f-afea-4f01-918b-e9aa9c9c9395 button');\n",
              "      quickchartButtonEl.style.display =\n",
              "        google.colab.kernel.accessAllowed ? 'block' : 'none';\n",
              "    })();\n",
              "  </script>\n",
              "</div>\n",
              "\n",
              "  <div id=\"id_c2402066-ded1-4ace-9c95-7c73eedb7bf0\">\n",
              "    <style>\n",
              "      .colab-df-generate {\n",
              "        background-color: #E8F0FE;\n",
              "        border: none;\n",
              "        border-radius: 50%;\n",
              "        cursor: pointer;\n",
              "        display: none;\n",
              "        fill: #1967D2;\n",
              "        height: 32px;\n",
              "        padding: 0 0 0 0;\n",
              "        width: 32px;\n",
              "      }\n",
              "\n",
              "      .colab-df-generate:hover {\n",
              "        background-color: #E2EBFA;\n",
              "        box-shadow: 0px 1px 2px rgba(60, 64, 67, 0.3), 0px 1px 3px 1px rgba(60, 64, 67, 0.15);\n",
              "        fill: #174EA6;\n",
              "      }\n",
              "\n",
              "      [theme=dark] .colab-df-generate {\n",
              "        background-color: #3B4455;\n",
              "        fill: #D2E3FC;\n",
              "      }\n",
              "\n",
              "      [theme=dark] .colab-df-generate:hover {\n",
              "        background-color: #434B5C;\n",
              "        box-shadow: 0px 1px 3px 1px rgba(0, 0, 0, 0.15);\n",
              "        filter: drop-shadow(0px 1px 2px rgba(0, 0, 0, 0.3));\n",
              "        fill: #FFFFFF;\n",
              "      }\n",
              "    </style>\n",
              "    <button class=\"colab-df-generate\" onclick=\"generateWithVariable('train')\"\n",
              "            title=\"Generate code using this dataframe.\"\n",
              "            style=\"display:none;\">\n",
              "\n",
              "  <svg xmlns=\"http://www.w3.org/2000/svg\" height=\"24px\"viewBox=\"0 0 24 24\"\n",
              "       width=\"24px\">\n",
              "    <path d=\"M7,19H8.4L18.45,9,17,7.55,7,17.6ZM5,21V16.75L18.45,3.32a2,2,0,0,1,2.83,0l1.4,1.43a1.91,1.91,0,0,1,.58,1.4,1.91,1.91,0,0,1-.58,1.4L9.25,21ZM18.45,9,17,7.55Zm-12,3A5.31,5.31,0,0,0,4.9,8.1,5.31,5.31,0,0,0,1,6.5,5.31,5.31,0,0,0,4.9,4.9,5.31,5.31,0,0,0,6.5,1,5.31,5.31,0,0,0,8.1,4.9,5.31,5.31,0,0,0,12,6.5,5.46,5.46,0,0,0,6.5,12Z\"/>\n",
              "  </svg>\n",
              "    </button>\n",
              "    <script>\n",
              "      (() => {\n",
              "      const buttonEl =\n",
              "        document.querySelector('#id_c2402066-ded1-4ace-9c95-7c73eedb7bf0 button.colab-df-generate');\n",
              "      buttonEl.style.display =\n",
              "        google.colab.kernel.accessAllowed ? 'block' : 'none';\n",
              "\n",
              "      buttonEl.onclick = () => {\n",
              "        google.colab.notebook.generateWithVariable('train');\n",
              "      }\n",
              "      })();\n",
              "    </script>\n",
              "  </div>\n",
              "\n",
              "    </div>\n",
              "  </div>\n"
            ],
            "application/vnd.google.colaboratory.intrinsic+json": {
              "type": "dataframe",
              "variable_name": "train"
            }
          },
          "metadata": {},
          "execution_count": 13
        }
      ]
    },
    {
      "cell_type": "code",
      "source": [
        "sns.countplot(x=train['class'])"
      ],
      "metadata": {
        "colab": {
          "base_uri": "https://localhost:8080/",
          "height": 469
        },
        "id": "ZH4tE0CWiPgE",
        "outputId": "fd799441-2774-4830-ac4d-84c933a7e062"
      },
      "execution_count": null,
      "outputs": [
        {
          "output_type": "execute_result",
          "data": {
            "text/plain": [
              "<Axes: xlabel='class', ylabel='count'>"
            ]
          },
          "metadata": {},
          "execution_count": 14
        },
        {
          "output_type": "display_data",
          "data": {
            "text/plain": [
              "<Figure size 640x480 with 1 Axes>"
            ],
            "image/png": "[encoded data removed]"
          },
          "metadata": {}
        }
      ]
    },
    {
      "cell_type": "code",
      "source": [
        "def le(df):\n",
        "    for col in df.columns:\n",
        "        if df[col].dtype == 'object':\n",
        "                label_encoder = LabelEncoder()\n",
        "                df[col] = label_encoder.fit_transform(df[col])\n",
        "\n",
        "le(train)"
      ],
      "metadata": {
        "id": "pgFnQy5_iUqI"
      },
      "execution_count": null,
      "outputs": []
    },
    {
      "cell_type": "code",
      "source": [
        "train.columns"
      ],
      "metadata": {
        "colab": {
          "base_uri": "https://localhost:8080/"
        },
        "id": "RFAVsvafiYuQ",
        "outputId": "71f8bcb8-4868-4780-ba10-82dbea895513"
      },
      "execution_count": null,
      "outputs": [
        {
          "output_type": "execute_result",
          "data": {
            "text/plain": [
              "Index(['duration', 'protocol_type', 'service', 'flag', 'src_bytes',\n",
              "       'dst_bytes', 'land', 'wrong_fragment', 'urgent', 'hot',\n",
              "       'num_failed_logins', 'logged_in', 'num_compromised', 'root_shell',\n",
              "       'su_attempted', 'num_root', 'num_file_creations', 'num_shells',\n",
              "       'num_access_files', 'num_outbound_cmds', 'is_host_login',\n",
              "       'is_guest_login', 'count', 'srv_count', 'serror_rate',\n",
              "       'srv_serror_rate', 'rerror_rate', 'srv_rerror_rate', 'same_srv_rate',\n",
              "       'diff_srv_rate', 'srv_diff_host_rate', 'dst_host_count',\n",
              "       'dst_host_srv_count', 'dst_host_same_srv_rate',\n",
              "       'dst_host_diff_srv_rate', 'dst_host_same_src_port_rate',\n",
              "       'dst_host_srv_diff_host_rate', 'dst_host_serror_rate',\n",
              "       'dst_host_srv_serror_rate', 'dst_host_rerror_rate',\n",
              "       'dst_host_srv_rerror_rate', 'class'],\n",
              "      dtype='object')"
            ]
          },
          "metadata": {},
          "execution_count": 16
        }
      ]
    },
    {
      "cell_type": "code",
      "source": [
        "train['class']"
      ],
      "metadata": {
        "colab": {
          "base_uri": "https://localhost:8080/"
        },
        "id": "ttvWMM-fibw4",
        "outputId": "30d9ee9a-b4a3-428b-cd8d-f6ec404851ef"
      },
      "execution_count": null,
      "outputs": [
        {
          "output_type": "execute_result",
          "data": {
            "text/plain": [
              "0        1\n",
              "1        1\n",
              "2        0\n",
              "3        1\n",
              "4        1\n",
              "        ..\n",
              "25187    0\n",
              "25188    0\n",
              "25189    0\n",
              "25190    0\n",
              "25191    0\n",
              "Name: class, Length: 25192, dtype: int64"
            ]
          },
          "metadata": {},
          "execution_count": 17
        }
      ]
    },
    {
      "cell_type": "code",
      "source": [
        "categorical_cols = train.select_dtypes(include=['object']).columns.tolist()\n",
        "\n",
        "if len(categorical_cols) > 0:\n",
        "    print(\"Categorical columns still present in the DataFrame:\")\n",
        "    print(categorical_cols)\n",
        "else:\n",
        "    print(\"No categorical columns remaining in the DataFrame.\")"
      ],
      "metadata": {
        "colab": {
          "base_uri": "https://localhost:8080/"
        },
        "id": "2tTlBMBMigHs",
        "outputId": "6fa290ee-07f7-4986-dbdf-1d82e0acae2d"
      },
      "execution_count": null,
      "outputs": [
        {
          "output_type": "stream",
          "name": "stdout",
          "text": [
            "No categorical columns remaining in the DataFrame.\n"
          ]
        }
      ]
    },
    {
      "cell_type": "code",
      "source": [
        "X_train = train.drop(['class'], axis=1)\n",
        "Y_train = train['class']\n",
        "X_train.shape"
      ],
      "metadata": {
        "colab": {
          "base_uri": "https://localhost:8080/"
        },
        "id": "se3VZlRoiiE8",
        "outputId": "ce64742f-a497-4141-8ae5-3feaa41dd0b3"
      },
      "execution_count": null,
      "outputs": [
        {
          "output_type": "execute_result",
          "data": {
            "text/plain": [
              "(25192, 41)"
            ]
          },
          "metadata": {},
          "execution_count": 19
        }
      ]
    },
    {
      "cell_type": "markdown",
      "source": [
        "# **Feature Selection**"
      ],
      "metadata": {
        "id": "2l-fqEzMX7V6"
      }
    },
    {
      "cell_type": "code",
      "source": [
        "# Initialize the Random Forest Classifier\n",
        "rfc = RandomForestClassifier()\n",
        "\n",
        "# Initialize RFE to select 10 features\n",
        "rfe = RFE(estimator=rfc, n_features_to_select=10)\n",
        "\n",
        "# Fit RFE on your training data\n",
        "rfe.fit(X_train, Y_train)\n",
        "\n",
        "# Get the selected features\n",
        "selected_features = X_train.columns[rfe.support_]\n",
        "selected_features"
      ],
      "metadata": {
        "id": "7gC9885likS-",
        "colab": {
          "base_uri": "https://localhost:8080/"
        },
        "outputId": "3f834752-8a8d-43db-8078-c05c1a7d43f9"
      },
      "execution_count": null,
      "outputs": [
        {
          "output_type": "execute_result",
          "data": {
            "text/plain": [
              "Index(['protocol_type', 'service', 'flag', 'src_bytes', 'dst_bytes', 'count',\n",
              "       'same_srv_rate', 'diff_srv_rate', 'dst_host_srv_count',\n",
              "       'dst_host_same_srv_rate'],\n",
              "      dtype='object')"
            ]
          },
          "metadata": {},
          "execution_count": 20
        }
      ]
    },
    {
      "cell_type": "code",
      "source": [
        "from sklearn.ensemble import RandomForestClassifier\n",
        "\n",
        "rfc = RandomForestClassifier()\n",
        "rfc.fit(X_train, Y_train)\n",
        "\n",
        "# Get feature importances\n",
        "feature_importances = rfc.feature_importances_\n",
        "\n",
        "# Combine with feature names\n",
        "feature_importance_map = dict(zip(X_train.columns, feature_importances))\n",
        "\n",
        "# Sort features by importance\n",
        "sorted_features = sorted(feature_importance_map.items(), key=lambda x: x[1], reverse=True)\n",
        "\n",
        "# Print top features\n",
        "# top_features = sorted_features[:10]  # Change the number to get a different count of top features\n",
        "# top_features\n",
        "sorted_features\n",
        "# top_features = sorted_features[:10]  # Change the number to get a different count of top features\n",
        "top_features=[feature[0] for feature in sorted_features[:10]]\n",
        "top_features"
      ],
      "metadata": {
        "id": "7dcsnI8rioj3",
        "colab": {
          "base_uri": "https://localhost:8080/"
        },
        "outputId": "ea91922b-085c-4be2-8446-f119a9623086"
      },
      "execution_count": null,
      "outputs": [
        {
          "output_type": "execute_result",
          "data": {
            "text/plain": [
              "['dst_bytes',\n",
              " 'src_bytes',\n",
              " 'flag',\n",
              " 'same_srv_rate',\n",
              " 'count',\n",
              " 'dst_host_same_srv_rate',\n",
              " 'dst_host_srv_count',\n",
              " 'diff_srv_rate',\n",
              " 'dst_host_diff_srv_rate',\n",
              " 'logged_in']"
            ]
          },
          "metadata": {},
          "execution_count": 33
        }
      ]
    },
    {
      "cell_type": "code",
      "source": [
        "from sklearn.feature_selection import SelectKBest\n",
        "from sklearn.feature_selection import chi2\n",
        "\n",
        "# Initialize SelectKBest\n",
        "k_best = SelectKBest(score_func=chi2, k=10)  # Change k to get a different count of top features\n",
        "\n",
        "# Fit SelectKBest on your data\n",
        "X_k_best = k_best.fit_transform(X_train, Y_train)\n",
        "\n",
        "# Get selected feature indices\n",
        "selected_indices = k_best.get_support(indices=True)\n",
        "\n",
        "# Get corresponding feature names\n",
        "selected_feature = X_train.columns[selected_indices]\n",
        "selected_feature"
      ],
      "metadata": {
        "id": "brClbsx4i6qO",
        "colab": {
          "base_uri": "https://localhost:8080/"
        },
        "outputId": "010f30a5-ce82-4aab-dace-dc2c883959b7"
      },
      "execution_count": null,
      "outputs": [
        {
          "output_type": "execute_result",
          "data": {
            "text/plain": [
              "Index(['duration', 'service', 'flag', 'src_bytes', 'dst_bytes', 'count',\n",
              "       'srv_serror_rate', 'dst_host_count', 'dst_host_srv_count',\n",
              "       'dst_host_srv_serror_rate'],\n",
              "      dtype='object')"
            ]
          },
          "metadata": {},
          "execution_count": 22
        }
      ]
    },
    {
      "cell_type": "code",
      "source": [
        "combined_features = list(set(selected_features).union(set(selected_feature)).union(set(top_features)))\n",
        "combined_features"
      ],
      "metadata": {
        "id": "Pb_aI1MEi_Sb",
        "colab": {
          "base_uri": "https://localhost:8080/"
        },
        "outputId": "2e65164e-6a82-4422-8f55-a091e79d9b9d"
      },
      "execution_count": null,
      "outputs": [
        {
          "output_type": "execute_result",
          "data": {
            "text/plain": [
              "['srv_serror_rate',\n",
              " 'protocol_type',\n",
              " 'dst_host_serror_rate',\n",
              " 'dst_host_diff_srv_rate',\n",
              " 'flag',\n",
              " 'diff_srv_rate',\n",
              " 'same_srv_rate',\n",
              " 'dst_host_srv_count',\n",
              " 'duration',\n",
              " 'logged_in',\n",
              " 'dst_bytes',\n",
              " 'service',\n",
              " 'src_bytes',\n",
              " 'dst_host_srv_serror_rate',\n",
              " 'dst_host_same_srv_rate',\n",
              " 'dst_host_count',\n",
              " 'count']"
            ]
          },
          "metadata": {},
          "execution_count": 23
        }
      ]
    },
    {
      "cell_type": "code",
      "source": [
        "feature_count = {}\n",
        "for feature in combined_features:\n",
        "    feature_count[feature] = feature_count.get(feature, 0) + 1"
      ],
      "metadata": {
        "id": "j1NqasWqjC-b"
      },
      "execution_count": null,
      "outputs": []
    },
    {
      "cell_type": "code",
      "source": [
        "total = sorted(feature_count.items(), key=lambda x: x[1], reverse=True)\n",
        "total"
      ],
      "metadata": {
        "id": "pjNbhUKmjFct",
        "colab": {
          "base_uri": "https://localhost:8080/"
        },
        "outputId": "5012b296-4437-4a8d-efca-33c07a0200db"
      },
      "execution_count": null,
      "outputs": [
        {
          "output_type": "execute_result",
          "data": {
            "text/plain": [
              "[('srv_serror_rate', 1),\n",
              " ('protocol_type', 1),\n",
              " ('dst_host_serror_rate', 1),\n",
              " ('dst_host_diff_srv_rate', 1),\n",
              " ('flag', 1),\n",
              " ('diff_srv_rate', 1),\n",
              " ('same_srv_rate', 1),\n",
              " ('dst_host_srv_count', 1),\n",
              " ('duration', 1),\n",
              " ('logged_in', 1),\n",
              " ('dst_bytes', 1),\n",
              " ('service', 1),\n",
              " ('src_bytes', 1),\n",
              " ('dst_host_srv_serror_rate', 1),\n",
              " ('dst_host_same_srv_rate', 1),\n",
              " ('dst_host_count', 1),\n",
              " ('count', 1)]"
            ]
          },
          "metadata": {},
          "execution_count": 26
        }
      ]
    },
    {
      "cell_type": "code",
      "source": [
        "final_features = [feature[0] for feature in total[:10]]\n",
        "final_features"
      ],
      "metadata": {
        "id": "vsKJuPcIjHpB",
        "colab": {
          "base_uri": "https://localhost:8080/"
        },
        "outputId": "a761fb0c-cd28-4903-92c5-2610993b7be1"
      },
      "execution_count": null,
      "outputs": [
        {
          "output_type": "execute_result",
          "data": {
            "text/plain": [
              "['srv_serror_rate',\n",
              " 'protocol_type',\n",
              " 'dst_host_serror_rate',\n",
              " 'dst_host_diff_srv_rate',\n",
              " 'flag',\n",
              " 'diff_srv_rate',\n",
              " 'same_srv_rate',\n",
              " 'dst_host_srv_count',\n",
              " 'duration',\n",
              " 'logged_in']"
            ]
          },
          "metadata": {},
          "execution_count": 27
        }
      ]
    },
    {
      "cell_type": "code",
      "source": [
        "final=X_train[final_features]\n",
        "final.shape"
      ],
      "metadata": {
        "id": "4z6ibxK6jLZJ",
        "colab": {
          "base_uri": "https://localhost:8080/"
        },
        "outputId": "d213e681-ec91-450e-8652-2d75c54816d9"
      },
      "execution_count": null,
      "outputs": [
        {
          "output_type": "execute_result",
          "data": {
            "text/plain": [
              "(25192, 10)"
            ]
          },
          "metadata": {},
          "execution_count": 34
        }
      ]
    },
    {
      "cell_type": "markdown",
      "source": [
        "# ***Splitting the data to Test and Train***"
      ],
      "metadata": {
        "id": "Tw4dZG3fYK8F"
      }
    },
    {
      "cell_type": "code",
      "source": [
        "# Splitting the dataset into train and validation sets\n",
        "x_train, x_val, y_train, y_val = train_test_split(final, Y_train, test_size=0.3, random_state=42)"
      ],
      "metadata": {
        "id": "zB_k-HzOjN0k"
      },
      "execution_count": null,
      "outputs": []
    },
    {
      "cell_type": "code",
      "source": [
        "final1=final.to_numpy()\n",
        "final1"
      ],
      "metadata": {
        "id": "0AawO633jRl1",
        "colab": {
          "base_uri": "https://localhost:8080/"
        },
        "outputId": "e1a44675-46b3-452e-c812-1980da2f6ab5"
      },
      "execution_count": null,
      "outputs": [
        {
          "output_type": "execute_result",
          "data": {
            "text/plain": [
              "array([[ 0.,  1.,  0., ..., 25.,  0.,  0.],\n",
              "       [ 0.,  2.,  0., ...,  1.,  0.,  0.],\n",
              "       [ 1.,  1.,  1., ..., 26.,  0.,  0.],\n",
              "       ...,\n",
              "       [ 0.,  1.,  0., ..., 13.,  0.,  0.],\n",
              "       [ 1.,  1.,  1., ..., 20.,  0.,  0.],\n",
              "       [ 1.,  1.,  1., ..., 49.,  0.,  0.]])"
            ]
          },
          "metadata": {},
          "execution_count": 36
        }
      ]
    },
    {
      "cell_type": "code",
      "source": [
        "x_train.shape"
      ],
      "metadata": {
        "id": "d2YLUuZEjWzb",
        "colab": {
          "base_uri": "https://localhost:8080/"
        },
        "outputId": "2e26a50d-8c75-40b1-c908-123737e0c831"
      },
      "execution_count": null,
      "outputs": [
        {
          "output_type": "execute_result",
          "data": {
            "text/plain": [
              "(17634, 10)"
            ]
          },
          "metadata": {},
          "execution_count": 37
        }
      ]
    },
    {
      "cell_type": "code",
      "source": [
        "x_val.shape"
      ],
      "metadata": {
        "id": "L714uN4-jaRZ",
        "colab": {
          "base_uri": "https://localhost:8080/"
        },
        "outputId": "d37e3d7f-46f2-44a9-e7e1-aaba26a211f9"
      },
      "execution_count": null,
      "outputs": [
        {
          "output_type": "execute_result",
          "data": {
            "text/plain": [
              "(7558, 10)"
            ]
          },
          "metadata": {},
          "execution_count": 38
        }
      ]
    },
    {
      "cell_type": "markdown",
      "source": [
        "# ***Label Encoding- feature encoding***"
      ],
      "metadata": {
        "id": "eZQZutg4Yb5I"
      }
    },
    {
      "cell_type": "code",
      "source": [
        "label_encoder = LabelEncoder()\n",
        "y_train_encoded = label_encoder.fit_transform(y_train)\n",
        "y_val_encoded = label_encoder.transform(y_val)"
      ],
      "metadata": {
        "id": "18h5lHN2uadO"
      },
      "execution_count": null,
      "outputs": []
    },
    {
      "cell_type": "code",
      "source": [
        "y_val_encoded.shape"
      ],
      "metadata": {
        "colab": {
          "base_uri": "https://localhost:8080/"
        },
        "id": "Xf4P636Y07J1",
        "outputId": "9e2e88ac-fb47-4376-f7e0-847b90ef207a"
      },
      "execution_count": null,
      "outputs": [
        {
          "output_type": "execute_result",
          "data": {
            "text/plain": [
              "(7558,)"
            ]
          },
          "metadata": {},
          "execution_count": 40
        }
      ]
    },
    {
      "cell_type": "markdown",
      "source": [
        "# ***CNN Accuracy--------> 3min***"
      ],
      "metadata": {
        "id": "SYV0vm8iYiq1"
      }
    },
    {
      "cell_type": "code",
      "source": [
        "model = Sequential()\n",
        "model.add(Conv1D(filters=64, kernel_size=3, activation='relu', input_shape=(final.shape[1], 1)))\n",
        "model.add(MaxPooling1D(pool_size=2))\n",
        "# Add more Conv1D and Pooling layers as needed\n",
        "model.add(Flatten())\n",
        "model.add(Dense(128, activation='relu'))\n",
        "model.add(Dropout(0.5))  # Add dropout for regularization\n",
        "model.add(Dense(1, activation='sigmoid'))\n",
        "\n",
        "# Compile the model with binary_crossentropy\n",
        "model.compile(optimizer='adam', loss='binary_crossentropy', metrics=['accuracy'])\n",
        "model.fit(x_train, y_train_encoded,epochs=50,batch_size=16,validation_data=(x_val, y_val_encoded))"
      ],
      "metadata": {
        "id": "uIeGZZJWjbd6",
        "colab": {
          "base_uri": "https://localhost:8080/"
        },
        "outputId": "841e6ef5-b98b-42f6-c96b-de6b61530a9d"
      },
      "execution_count": null,
      "outputs": [
        {
          "output_type": "stream",
          "name": "stdout",
          "text": [
            "Epoch 1/50\n",
            "1260/1260 [==============================] - 5s 3ms/step - loss: 1331.6138 - accuracy: 0.8785 - val_loss: 37.9562 - val_accuracy: 0.9329\n",
            "Epoch 2/50\n",
            "1260/1260 [==============================] - 4s 3ms/step - loss: 499.4422 - accuracy: 0.9019 - val_loss: 280.4588 - val_accuracy: 0.9097\n",
            "Epoch 3/50\n",
            "1260/1260 [==============================] - 4s 3ms/step - loss: 1890.3086 - accuracy: 0.9039 - val_loss: 328.9336 - val_accuracy: 0.9436\n",
            "Epoch 4/50\n",
            "1260/1260 [==============================] - 3s 3ms/step - loss: 375.8593 - accuracy: 0.9173 - val_loss: 13.0959 - val_accuracy: 0.9417\n",
            "Epoch 5/50\n",
            "1260/1260 [==============================] - 3s 3ms/step - loss: 115.9373 - accuracy: 0.9242 - val_loss: 119.5609 - val_accuracy: 0.9500\n",
            "Epoch 6/50\n",
            "1260/1260 [==============================] - 4s 3ms/step - loss: 391.8956 - accuracy: 0.9167 - val_loss: 129.9644 - val_accuracy: 0.9303\n",
            "Epoch 7/50\n",
            "1260/1260 [==============================] - 4s 3ms/step - loss: 52.5638 - accuracy: 0.9255 - val_loss: 0.1578 - val_accuracy: 0.9480\n",
            "Epoch 8/50\n",
            "1260/1260 [==============================] - 3s 3ms/step - loss: 0.2305 - accuracy: 0.9268 - val_loss: 0.1566 - val_accuracy: 0.9516\n",
            "Epoch 9/50\n",
            "1260/1260 [==============================] - 3s 3ms/step - loss: 0.2197 - accuracy: 0.9266 - val_loss: 0.1426 - val_accuracy: 0.9486\n",
            "Epoch 10/50\n",
            "1260/1260 [==============================] - 5s 4ms/step - loss: 0.2035 - accuracy: 0.9277 - val_loss: 0.1457 - val_accuracy: 0.9510\n",
            "Epoch 11/50\n",
            "1260/1260 [==============================] - 3s 3ms/step - loss: 0.2699 - accuracy: 0.9274 - val_loss: 0.1433 - val_accuracy: 0.9486\n",
            "Epoch 12/50\n",
            "1260/1260 [==============================] - 4s 3ms/step - loss: 0.2232 - accuracy: 0.9278 - val_loss: 0.1520 - val_accuracy: 0.9379\n",
            "Epoch 13/50\n",
            "1260/1260 [==============================] - 4s 3ms/step - loss: 0.2008 - accuracy: 0.9274 - val_loss: 0.1349 - val_accuracy: 0.9510\n",
            "Epoch 14/50\n",
            "1260/1260 [==============================] - 4s 4ms/step - loss: 0.1900 - accuracy: 0.9311 - val_loss: 0.1335 - val_accuracy: 0.9494\n",
            "Epoch 15/50\n",
            "1260/1260 [==============================] - 5s 4ms/step - loss: 0.1898 - accuracy: 0.9317 - val_loss: 0.1309 - val_accuracy: 0.9526\n",
            "Epoch 16/50\n",
            "1260/1260 [==============================] - 3s 3ms/step - loss: 0.2285 - accuracy: 0.9309 - val_loss: 0.1328 - val_accuracy: 0.9522\n",
            "Epoch 17/50\n",
            "1260/1260 [==============================] - 5s 4ms/step - loss: 0.2132 - accuracy: 0.9273 - val_loss: 0.1625 - val_accuracy: 0.9351\n",
            "Epoch 18/50\n",
            "1260/1260 [==============================] - 4s 3ms/step - loss: 0.2022 - accuracy: 0.9274 - val_loss: 0.1413 - val_accuracy: 0.9423\n",
            "Epoch 19/50\n",
            "1260/1260 [==============================] - 3s 3ms/step - loss: 0.1960 - accuracy: 0.9288 - val_loss: 0.1378 - val_accuracy: 0.9492\n",
            "Epoch 20/50\n",
            "1260/1260 [==============================] - 4s 3ms/step - loss: 0.2771 - accuracy: 0.9287 - val_loss: 0.1344 - val_accuracy: 0.9480\n",
            "Epoch 21/50\n",
            "1260/1260 [==============================] - 4s 3ms/step - loss: 0.1933 - accuracy: 0.9286 - val_loss: 0.1426 - val_accuracy: 0.9428\n",
            "Epoch 22/50\n",
            "1260/1260 [==============================] - 3s 3ms/step - loss: 0.1877 - accuracy: 0.9308 - val_loss: 0.1381 - val_accuracy: 0.9500\n",
            "Epoch 23/50\n",
            "1260/1260 [==============================] - 4s 3ms/step - loss: 0.4328 - accuracy: 0.9301 - val_loss: 0.1316 - val_accuracy: 0.9502\n",
            "Epoch 24/50\n",
            "1260/1260 [==============================] - 6s 5ms/step - loss: 0.1961 - accuracy: 0.9321 - val_loss: 0.1425 - val_accuracy: 0.9399\n",
            "Epoch 25/50\n",
            "1260/1260 [==============================] - 4s 3ms/step - loss: 0.2019 - accuracy: 0.9273 - val_loss: 0.1428 - val_accuracy: 0.9424\n",
            "Epoch 26/50\n",
            "1260/1260 [==============================] - 3s 3ms/step - loss: 0.2009 - accuracy: 0.9265 - val_loss: 0.1524 - val_accuracy: 0.9359\n",
            "Epoch 27/50\n",
            "1260/1260 [==============================] - 4s 3ms/step - loss: 0.2174 - accuracy: 0.9276 - val_loss: 0.1482 - val_accuracy: 0.9403\n",
            "Epoch 28/50\n",
            "1260/1260 [==============================] - 4s 3ms/step - loss: 0.2709 - accuracy: 0.9263 - val_loss: 0.1443 - val_accuracy: 0.9407\n",
            "Epoch 29/50\n",
            "1260/1260 [==============================] - 4s 3ms/step - loss: 0.1923 - accuracy: 0.9293 - val_loss: 0.1217 - val_accuracy: 0.9534\n",
            "Epoch 30/50\n",
            "1260/1260 [==============================] - 3s 3ms/step - loss: 0.1846 - accuracy: 0.9325 - val_loss: 0.1240 - val_accuracy: 0.9460\n",
            "Epoch 31/50\n",
            "1260/1260 [==============================] - 4s 3ms/step - loss: 0.1875 - accuracy: 0.9344 - val_loss: 0.1229 - val_accuracy: 0.9518\n",
            "Epoch 32/50\n",
            "1260/1260 [==============================] - 4s 3ms/step - loss: 0.1899 - accuracy: 0.9382 - val_loss: 0.1121 - val_accuracy: 0.9601\n",
            "Epoch 33/50\n",
            "1260/1260 [==============================] - 3s 3ms/step - loss: 0.1943 - accuracy: 0.9327 - val_loss: 0.1363 - val_accuracy: 0.9426\n",
            "Epoch 34/50\n",
            "1260/1260 [==============================] - 3s 3ms/step - loss: 0.1868 - accuracy: 0.9339 - val_loss: 0.1406 - val_accuracy: 0.9417\n",
            "Epoch 35/50\n",
            "1260/1260 [==============================] - 5s 4ms/step - loss: 0.2027 - accuracy: 0.9327 - val_loss: 0.1346 - val_accuracy: 0.9458\n",
            "Epoch 36/50\n",
            "1260/1260 [==============================] - 3s 3ms/step - loss: 0.1829 - accuracy: 0.9343 - val_loss: 0.1329 - val_accuracy: 0.9456\n",
            "Epoch 37/50\n",
            "1260/1260 [==============================] - 3s 3ms/step - loss: 0.1897 - accuracy: 0.9351 - val_loss: 0.1363 - val_accuracy: 0.9448\n",
            "Epoch 38/50\n",
            "1260/1260 [==============================] - 4s 3ms/step - loss: 0.2003 - accuracy: 0.9339 - val_loss: 0.1342 - val_accuracy: 0.9456\n",
            "Epoch 39/50\n",
            "1260/1260 [==============================] - 4s 3ms/step - loss: 0.1795 - accuracy: 0.9339 - val_loss: 0.1310 - val_accuracy: 0.9452\n",
            "Epoch 40/50\n",
            "1260/1260 [==============================] - 3s 3ms/step - loss: 0.1855 - accuracy: 0.9363 - val_loss: 0.1271 - val_accuracy: 0.9464\n",
            "Epoch 41/50\n",
            "1260/1260 [==============================] - 3s 3ms/step - loss: 0.1776 - accuracy: 0.9358 - val_loss: 0.1282 - val_accuracy: 0.9458\n",
            "Epoch 42/50\n",
            "1260/1260 [==============================] - 5s 4ms/step - loss: 0.4558 - accuracy: 0.9364 - val_loss: 0.1356 - val_accuracy: 0.9464\n",
            "Epoch 43/50\n",
            "1260/1260 [==============================] - 4s 3ms/step - loss: 0.1883 - accuracy: 0.9363 - val_loss: 0.1347 - val_accuracy: 0.9462\n",
            "Epoch 44/50\n",
            "1260/1260 [==============================] - 3s 3ms/step - loss: 0.1877 - accuracy: 0.9365 - val_loss: 0.1339 - val_accuracy: 0.9464\n",
            "Epoch 45/50\n",
            "1260/1260 [==============================] - 4s 3ms/step - loss: 0.1706 - accuracy: 0.9383 - val_loss: 0.1383 - val_accuracy: 0.9464\n",
            "Epoch 46/50\n",
            "1260/1260 [==============================] - 5s 4ms/step - loss: 0.1731 - accuracy: 0.9372 - val_loss: 0.1313 - val_accuracy: 0.9464\n",
            "Epoch 47/50\n",
            "1260/1260 [==============================] - 3s 3ms/step - loss: 0.1740 - accuracy: 0.9374 - val_loss: 0.1303 - val_accuracy: 0.9474\n",
            "Epoch 48/50\n",
            "1260/1260 [==============================] - 3s 3ms/step - loss: 0.1692 - accuracy: 0.9377 - val_loss: 0.1301 - val_accuracy: 0.9460\n",
            "Epoch 49/50\n",
            "1260/1260 [==============================] - 4s 3ms/step - loss: 0.1703 - accuracy: 0.9388 - val_loss: 0.1289 - val_accuracy: 0.9474\n",
            "Epoch 50/50\n",
            "1260/1260 [==============================] - 4s 3ms/step - loss: 0.1692 - accuracy: 0.9382 - val_loss: 0.1372 - val_accuracy: 0.9462\n"
          ]
        },
        {
          "output_type": "execute_result",
          "data": {
            "text/plain": [
              "<keras.src.callbacks.History at 0x7a29aa01da50>"
            ]
          },
          "metadata": {},
          "execution_count": 33
        }
      ]
    },
    {
      "cell_type": "code",
      "source": [
        "x_val.shape"
      ],
      "metadata": {
        "colab": {
          "base_uri": "https://localhost:8080/"
        },
        "id": "5uz0nkyp9sgp",
        "outputId": "2e9b776a-9cb3-4f77-8f01-700bb631c674"
      },
      "execution_count": null,
      "outputs": [
        {
          "output_type": "execute_result",
          "data": {
            "text/plain": [
              "(7558, 10)"
            ]
          },
          "metadata": {},
          "execution_count": 41
        }
      ]
    },
    {
      "cell_type": "code",
      "source": [
        "# Assuming you have a trained Keras model 'model' and your test dataset 'X_test'\n",
        "predictions = model.predict(x_val)\n",
        "predictions"
      ],
      "metadata": {
        "colab": {
          "base_uri": "https://localhost:8080/"
        },
        "id": "-Stm4QlCjda7",
        "outputId": "9a1e6dd6-560d-410b-9621-d5ea56b0ff17"
      },
      "execution_count": null,
      "outputs": [
        {
          "output_type": "stream",
          "name": "stdout",
          "text": [
            "158/158 [==============================] - 0s 2ms/step\n"
          ]
        },
        {
          "output_type": "execute_result",
          "data": {
            "text/plain": [
              "array([[8.2229507e-01],\n",
              "       [8.2229507e-01],\n",
              "       [1.4961943e-09],\n",
              "       ...,\n",
              "       [9.4194227e-01],\n",
              "       [9.9765038e-01],\n",
              "       [9.8478359e-01]], dtype=float32)"
            ]
          },
          "metadata": {},
          "execution_count": 35
        }
      ]
    },
    {
      "cell_type": "code",
      "source": [
        "predicted_classes = (predictions > 0.5).astype('int32')\n",
        "predicted_classes.shape"
      ],
      "metadata": {
        "id": "cGQJ6rfUkSTu",
        "colab": {
          "base_uri": "https://localhost:8080/"
        },
        "outputId": "72a7930e-c516-4206-f1a8-a230f1afddaa"
      },
      "execution_count": null,
      "outputs": [
        {
          "output_type": "execute_result",
          "data": {
            "text/plain": [
              "(5039, 1)"
            ]
          },
          "metadata": {},
          "execution_count": 36
        }
      ]
    },
    {
      "cell_type": "code",
      "source": [
        "accuracy=accuracy_score(y_val_encoded, predicted_classes)\n",
        "report=classification_report(y_val_encoded, predicted_classes)\n",
        "print(f\"Accuracy: {accuracy}\")\n",
        "print(f\"Report: {report}\")"
      ],
      "metadata": {
        "colab": {
          "base_uri": "https://localhost:8080/"
        },
        "id": "aFKOXo36kUen",
        "outputId": "eaf9f38f-c1d9-4c47-81c2-d02bb56c5e76"
      },
      "execution_count": null,
      "outputs": [
        {
          "output_type": "stream",
          "name": "stdout",
          "text": [
            "Accuracy: 0.9462194879936495\n",
            "Report:               precision    recall  f1-score   support\n",
            "\n",
            "           0       0.99      0.89      0.94      2365\n",
            "           1       0.91      0.99      0.95      2674\n",
            "\n",
            "    accuracy                           0.95      5039\n",
            "   macro avg       0.95      0.94      0.95      5039\n",
            "weighted avg       0.95      0.95      0.95      5039\n",
            "\n"
          ]
        }
      ]
    },
    {
      "cell_type": "markdown",
      "source": [
        "# ***GRU Accuracy--------> 8min***"
      ],
      "metadata": {
        "id": "pAgOudKbYrJc"
      }
    },
    {
      "cell_type": "code",
      "source": [
        "# Train GRU model\n",
        "gru_model = Sequential()\n",
        "gru_model.add(GRU(64, input_shape=(final.shape[1], 1)))\n",
        "gru_model.add(Dense(1, activation='sigmoid'))\n",
        "gru_model.compile(optimizer='adam', loss='binary_crossentropy', metrics=['accuracy'])\n",
        "gru_model.fit(x_train, y_train_encoded, epochs=50, batch_size=16, validation_data=(x_val, y_val_encoded))"
      ],
      "metadata": {
        "id": "EFFTvQ0KkWVn",
        "colab": {
          "base_uri": "https://localhost:8080/"
        },
        "outputId": "7093b1ee-f555-486f-9242-a57d9cb974fb"
      },
      "execution_count": null,
      "outputs": [
        {
          "output_type": "stream",
          "name": "stdout",
          "text": [
            "Epoch 1/50\n",
            "1260/1260 [==============================] - 13s 8ms/step - loss: 0.1603 - accuracy: 0.9410 - val_loss: 0.0889 - val_accuracy: 0.9673\n",
            "Epoch 2/50\n",
            "1260/1260 [==============================] - 10s 8ms/step - loss: 0.0871 - accuracy: 0.9653 - val_loss: 0.0751 - val_accuracy: 0.9669\n",
            "Epoch 3/50\n",
            "1260/1260 [==============================] - 11s 8ms/step - loss: 0.0716 - accuracy: 0.9731 - val_loss: 0.0742 - val_accuracy: 0.9722\n",
            "Epoch 4/50\n",
            "1260/1260 [==============================] - 11s 9ms/step - loss: 0.0594 - accuracy: 0.9785 - val_loss: 0.0383 - val_accuracy: 0.9879\n",
            "Epoch 5/50\n",
            "1260/1260 [==============================] - 9s 7ms/step - loss: 0.0512 - accuracy: 0.9831 - val_loss: 0.0500 - val_accuracy: 0.9823\n",
            "Epoch 6/50\n",
            "1260/1260 [==============================] - 10s 8ms/step - loss: 0.0449 - accuracy: 0.9850 - val_loss: 0.0392 - val_accuracy: 0.9829\n",
            "Epoch 7/50\n",
            "1260/1260 [==============================] - 11s 8ms/step - loss: 0.0371 - accuracy: 0.9878 - val_loss: 0.0339 - val_accuracy: 0.9873\n",
            "Epoch 8/50\n",
            "1260/1260 [==============================] - 9s 7ms/step - loss: 0.0376 - accuracy: 0.9882 - val_loss: 0.0281 - val_accuracy: 0.9905\n",
            "Epoch 9/50\n",
            "1260/1260 [==============================] - 10s 8ms/step - loss: 0.0305 - accuracy: 0.9903 - val_loss: 0.0298 - val_accuracy: 0.9895\n",
            "Epoch 10/50\n",
            "1260/1260 [==============================] - 11s 8ms/step - loss: 0.0269 - accuracy: 0.9917 - val_loss: 0.0199 - val_accuracy: 0.9931\n",
            "Epoch 11/50\n",
            "1260/1260 [==============================] - 10s 8ms/step - loss: 0.0305 - accuracy: 0.9907 - val_loss: 0.0268 - val_accuracy: 0.9901\n",
            "Epoch 12/50\n",
            "1260/1260 [==============================] - 10s 8ms/step - loss: 0.0273 - accuracy: 0.9911 - val_loss: 0.0187 - val_accuracy: 0.9938\n",
            "Epoch 13/50\n",
            "1260/1260 [==============================] - 10s 8ms/step - loss: 0.0261 - accuracy: 0.9920 - val_loss: 0.0223 - val_accuracy: 0.9917\n",
            "Epoch 14/50\n",
            "1260/1260 [==============================] - 10s 8ms/step - loss: 0.0253 - accuracy: 0.9920 - val_loss: 0.0290 - val_accuracy: 0.9885\n",
            "Epoch 15/50\n",
            "1260/1260 [==============================] - 10s 8ms/step - loss: 0.0258 - accuracy: 0.9911 - val_loss: 0.0194 - val_accuracy: 0.9935\n",
            "Epoch 16/50\n",
            "1260/1260 [==============================] - 9s 7ms/step - loss: 0.0206 - accuracy: 0.9935 - val_loss: 0.0173 - val_accuracy: 0.9942\n",
            "Epoch 17/50\n",
            "1260/1260 [==============================] - 10s 8ms/step - loss: 0.0224 - accuracy: 0.9924 - val_loss: 0.0225 - val_accuracy: 0.9923\n",
            "Epoch 18/50\n",
            "1260/1260 [==============================] - 11s 9ms/step - loss: 0.0251 - accuracy: 0.9912 - val_loss: 0.0296 - val_accuracy: 0.9905\n",
            "Epoch 19/50\n",
            "1260/1260 [==============================] - 10s 8ms/step - loss: 0.0254 - accuracy: 0.9920 - val_loss: 0.0189 - val_accuracy: 0.9942\n",
            "Epoch 20/50\n",
            "1260/1260 [==============================] - 9s 7ms/step - loss: 0.0175 - accuracy: 0.9943 - val_loss: 0.0206 - val_accuracy: 0.9921\n",
            "Epoch 21/50\n",
            "1260/1260 [==============================] - 11s 8ms/step - loss: 0.0207 - accuracy: 0.9931 - val_loss: 0.0163 - val_accuracy: 0.9948\n",
            "Epoch 22/50\n",
            "1260/1260 [==============================] - 11s 8ms/step - loss: 0.0205 - accuracy: 0.9934 - val_loss: 0.0171 - val_accuracy: 0.9938\n",
            "Epoch 23/50\n",
            "1260/1260 [==============================] - 10s 8ms/step - loss: 0.0165 - accuracy: 0.9942 - val_loss: 0.0213 - val_accuracy: 0.9911\n",
            "Epoch 24/50\n",
            "1260/1260 [==============================] - 10s 8ms/step - loss: 0.0185 - accuracy: 0.9933 - val_loss: 0.0240 - val_accuracy: 0.9925\n",
            "Epoch 25/50\n",
            "1260/1260 [==============================] - 10s 8ms/step - loss: 0.0216 - accuracy: 0.9923 - val_loss: 0.0189 - val_accuracy: 0.9942\n",
            "Epoch 26/50\n",
            "1260/1260 [==============================] - 11s 8ms/step - loss: 0.0236 - accuracy: 0.9909 - val_loss: 0.0163 - val_accuracy: 0.9954\n",
            "Epoch 27/50\n",
            "1260/1260 [==============================] - 11s 8ms/step - loss: 0.0173 - accuracy: 0.9937 - val_loss: 0.0161 - val_accuracy: 0.9942\n",
            "Epoch 28/50\n",
            "1260/1260 [==============================] - 9s 7ms/step - loss: 0.0155 - accuracy: 0.9948 - val_loss: 0.0221 - val_accuracy: 0.9929\n",
            "Epoch 29/50\n",
            "1260/1260 [==============================] - 10s 8ms/step - loss: 0.0158 - accuracy: 0.9942 - val_loss: 0.0223 - val_accuracy: 0.9923\n",
            "Epoch 30/50\n",
            "1260/1260 [==============================] - 10s 8ms/step - loss: 0.0163 - accuracy: 0.9945 - val_loss: 0.0173 - val_accuracy: 0.9948\n",
            "Epoch 31/50\n",
            "1260/1260 [==============================] - 10s 8ms/step - loss: 0.0143 - accuracy: 0.9952 - val_loss: 0.0266 - val_accuracy: 0.9901\n",
            "Epoch 32/50\n",
            "1260/1260 [==============================] - 9s 7ms/step - loss: 0.0149 - accuracy: 0.9948 - val_loss: 0.0187 - val_accuracy: 0.9950\n",
            "Epoch 33/50\n",
            "1260/1260 [==============================] - 11s 9ms/step - loss: 0.0130 - accuracy: 0.9958 - val_loss: 0.0182 - val_accuracy: 0.9952\n",
            "Epoch 34/50\n",
            "1260/1260 [==============================] - 10s 8ms/step - loss: 0.0138 - accuracy: 0.9957 - val_loss: 0.0175 - val_accuracy: 0.9952\n",
            "Epoch 35/50\n",
            "1260/1260 [==============================] - 10s 8ms/step - loss: 0.0134 - accuracy: 0.9953 - val_loss: 0.0191 - val_accuracy: 0.9948\n",
            "Epoch 36/50\n",
            "1260/1260 [==============================] - 9s 8ms/step - loss: 0.0118 - accuracy: 0.9957 - val_loss: 0.0189 - val_accuracy: 0.9948\n",
            "Epoch 37/50\n",
            "1260/1260 [==============================] - 11s 8ms/step - loss: 0.0135 - accuracy: 0.9948 - val_loss: 0.0171 - val_accuracy: 0.9946\n",
            "Epoch 38/50\n",
            "1260/1260 [==============================] - 12s 9ms/step - loss: 0.0111 - accuracy: 0.9964 - val_loss: 0.0170 - val_accuracy: 0.9958\n",
            "Epoch 39/50\n",
            "1260/1260 [==============================] - 10s 8ms/step - loss: 0.0136 - accuracy: 0.9958 - val_loss: 0.0186 - val_accuracy: 0.9942\n",
            "Epoch 40/50\n",
            "1260/1260 [==============================] - 9s 7ms/step - loss: 0.0130 - accuracy: 0.9956 - val_loss: 0.0221 - val_accuracy: 0.9944\n",
            "Epoch 41/50\n",
            "1260/1260 [==============================] - 11s 8ms/step - loss: 0.0160 - accuracy: 0.9943 - val_loss: 0.0303 - val_accuracy: 0.9913\n",
            "Epoch 42/50\n",
            "1260/1260 [==============================] - 11s 8ms/step - loss: 0.0172 - accuracy: 0.9949 - val_loss: 0.0414 - val_accuracy: 0.9865\n",
            "Epoch 43/50\n",
            "1260/1260 [==============================] - 10s 8ms/step - loss: 0.0152 - accuracy: 0.9946 - val_loss: 0.0191 - val_accuracy: 0.9946\n",
            "Epoch 44/50\n",
            "1260/1260 [==============================] - 10s 8ms/step - loss: 0.0125 - accuracy: 0.9963 - val_loss: 0.0159 - val_accuracy: 0.9960\n",
            "Epoch 45/50\n",
            "1260/1260 [==============================] - 12s 9ms/step - loss: 0.0120 - accuracy: 0.9958 - val_loss: 0.0148 - val_accuracy: 0.9964\n",
            "Epoch 46/50\n",
            "1260/1260 [==============================] - 10s 8ms/step - loss: 0.0112 - accuracy: 0.9962 - val_loss: 0.0163 - val_accuracy: 0.9940\n",
            "Epoch 47/50\n",
            "1260/1260 [==============================] - 10s 8ms/step - loss: 0.0126 - accuracy: 0.9959 - val_loss: 0.0168 - val_accuracy: 0.9956\n",
            "Epoch 48/50\n",
            "1260/1260 [==============================] - 9s 7ms/step - loss: 0.0109 - accuracy: 0.9967 - val_loss: 0.0189 - val_accuracy: 0.9948\n",
            "Epoch 49/50\n",
            "1260/1260 [==============================] - 10s 8ms/step - loss: 0.0098 - accuracy: 0.9966 - val_loss: 0.0158 - val_accuracy: 0.9960\n",
            "Epoch 50/50\n",
            "1260/1260 [==============================] - 11s 8ms/step - loss: 0.0144 - accuracy: 0.9957 - val_loss: 0.0152 - val_accuracy: 0.9966\n"
          ]
        },
        {
          "output_type": "execute_result",
          "data": {
            "text/plain": [
              "<keras.src.callbacks.History at 0x7a29a82167a0>"
            ]
          },
          "metadata": {},
          "execution_count": 38
        }
      ]
    },
    {
      "cell_type": "code",
      "source": [
        "gru_predict = gru_model.predict(x_val)\n",
        "gru_class = (gru_predict > 0.5).astype('int32')"
      ],
      "metadata": {
        "id": "UKLrNZE29nnO",
        "colab": {
          "base_uri": "https://localhost:8080/"
        },
        "outputId": "f96b6d68-9b97-4324-a354-6438f30b324a"
      },
      "execution_count": null,
      "outputs": [
        {
          "output_type": "stream",
          "name": "stdout",
          "text": [
            "158/158 [==============================] - 1s 4ms/step\n"
          ]
        }
      ]
    },
    {
      "cell_type": "code",
      "source": [
        "gru_accuracy=accuracy_score(y_val_encoded, gru_class)\n",
        "gru_report=classification_report(y_val_encoded, gru_class)\n",
        "print(f\"Accuracy: {gru_accuracy}\")\n",
        "print(f\"Report: {gru_report}\")"
      ],
      "metadata": {
        "colab": {
          "base_uri": "https://localhost:8080/"
        },
        "id": "MY6Btj770F2p",
        "outputId": "c13649f8-4c33-47ac-fc42-e9cdea5b7f77"
      },
      "execution_count": null,
      "outputs": [
        {
          "output_type": "stream",
          "name": "stdout",
          "text": [
            "Accuracy: 0.9966263147449891\n",
            "Report:               precision    recall  f1-score   support\n",
            "\n",
            "           0       1.00      1.00      1.00      2365\n",
            "           1       1.00      1.00      1.00      2674\n",
            "\n",
            "    accuracy                           1.00      5039\n",
            "   macro avg       1.00      1.00      1.00      5039\n",
            "weighted avg       1.00      1.00      1.00      5039\n",
            "\n"
          ]
        }
      ]
    },
    {
      "cell_type": "markdown",
      "source": [
        "# ***Bidirectional GRU Accuracy--------> 13min***"
      ],
      "metadata": {
        "id": "7YV3Tq6-Ywnb"
      }
    },
    {
      "cell_type": "code",
      "source": [
        "# Train Bidirectional GRU model\n",
        "bidirectional_gru_model = Sequential()\n",
        "bidirectional_gru_model.add(Bidirectional(GRU(64), input_shape=(final.shape[1], 1)))\n",
        "bidirectional_gru_model.add(Dense(1, activation='sigmoid'))\n",
        "bidirectional_gru_model.compile(optimizer='adam', loss='binary_crossentropy', metrics=['accuracy'])\n",
        "bidirectional_gru_model.fit(x_train, y_train_encoded, epochs=50, batch_size=16, validation_data=(x_val, y_val_encoded))"
      ],
      "metadata": {
        "colab": {
          "base_uri": "https://localhost:8080/"
        },
        "id": "YyHRW6Is0eET",
        "outputId": "c5aebe3f-502d-4b6c-aa17-9abe551b24fb"
      },
      "execution_count": null,
      "outputs": [
        {
          "output_type": "stream",
          "name": "stdout",
          "text": [
            "Epoch 1/50\n",
            "1260/1260 [==============================] - 35s 24ms/step - loss: 0.1622 - accuracy: 0.9416 - val_loss: 0.0812 - val_accuracy: 0.9698\n",
            "Epoch 2/50\n",
            "1260/1260 [==============================] - 17s 13ms/step - loss: 0.0812 - accuracy: 0.9693 - val_loss: 0.0587 - val_accuracy: 0.9762\n",
            "Epoch 3/50\n",
            "1260/1260 [==============================] - 14s 11ms/step - loss: 0.0668 - accuracy: 0.9759 - val_loss: 0.0438 - val_accuracy: 0.9861\n",
            "Epoch 4/50\n",
            "1260/1260 [==============================] - 14s 11ms/step - loss: 0.0546 - accuracy: 0.9805 - val_loss: 0.0359 - val_accuracy: 0.9887\n",
            "Epoch 5/50\n",
            "1260/1260 [==============================] - 14s 11ms/step - loss: 0.0459 - accuracy: 0.9838 - val_loss: 0.0372 - val_accuracy: 0.9881\n",
            "Epoch 6/50\n",
            "1260/1260 [==============================] - 15s 12ms/step - loss: 0.0410 - accuracy: 0.9856 - val_loss: 0.0335 - val_accuracy: 0.9871\n",
            "Epoch 7/50\n",
            "1260/1260 [==============================] - 14s 11ms/step - loss: 0.0401 - accuracy: 0.9867 - val_loss: 0.0298 - val_accuracy: 0.9905\n",
            "Epoch 8/50\n",
            "1260/1260 [==============================] - 14s 11ms/step - loss: 0.0377 - accuracy: 0.9873 - val_loss: 0.0964 - val_accuracy: 0.9756\n",
            "Epoch 9/50\n",
            "1260/1260 [==============================] - 16s 13ms/step - loss: 0.0342 - accuracy: 0.9884 - val_loss: 0.0400 - val_accuracy: 0.9841\n",
            "Epoch 10/50\n",
            "1260/1260 [==============================] - 14s 11ms/step - loss: 0.0358 - accuracy: 0.9878 - val_loss: 0.0247 - val_accuracy: 0.9923\n",
            "Epoch 11/50\n",
            "1260/1260 [==============================] - 14s 11ms/step - loss: 0.0286 - accuracy: 0.9900 - val_loss: 0.0335 - val_accuracy: 0.9869\n",
            "Epoch 12/50\n",
            "1260/1260 [==============================] - 14s 11ms/step - loss: 0.0286 - accuracy: 0.9905 - val_loss: 0.0364 - val_accuracy: 0.9893\n",
            "Epoch 13/50\n",
            "1260/1260 [==============================] - 14s 11ms/step - loss: 0.0250 - accuracy: 0.9917 - val_loss: 0.0256 - val_accuracy: 0.9917\n",
            "Epoch 14/50\n",
            "1260/1260 [==============================] - 15s 12ms/step - loss: 0.0229 - accuracy: 0.9920 - val_loss: 0.0345 - val_accuracy: 0.9857\n",
            "Epoch 15/50\n",
            "1260/1260 [==============================] - 16s 13ms/step - loss: 0.0210 - accuracy: 0.9924 - val_loss: 0.0301 - val_accuracy: 0.9919\n",
            "Epoch 16/50\n",
            "1260/1260 [==============================] - 14s 11ms/step - loss: 0.0224 - accuracy: 0.9920 - val_loss: 0.0284 - val_accuracy: 0.9903\n",
            "Epoch 17/50\n",
            "1260/1260 [==============================] - 14s 11ms/step - loss: 0.0180 - accuracy: 0.9937 - val_loss: 0.0281 - val_accuracy: 0.9909\n",
            "Epoch 18/50\n",
            "1260/1260 [==============================] - 14s 11ms/step - loss: 0.0178 - accuracy: 0.9938 - val_loss: 0.0212 - val_accuracy: 0.9935\n",
            "Epoch 19/50\n",
            "1260/1260 [==============================] - 15s 12ms/step - loss: 0.0170 - accuracy: 0.9944 - val_loss: 0.0249 - val_accuracy: 0.9923\n",
            "Epoch 20/50\n",
            "1260/1260 [==============================] - 14s 11ms/step - loss: 0.0157 - accuracy: 0.9946 - val_loss: 0.0273 - val_accuracy: 0.9895\n",
            "Epoch 21/50\n",
            "1260/1260 [==============================] - 14s 11ms/step - loss: 0.0170 - accuracy: 0.9942 - val_loss: 0.0301 - val_accuracy: 0.9889\n",
            "Epoch 22/50\n",
            "1260/1260 [==============================] - 14s 11ms/step - loss: 0.0169 - accuracy: 0.9941 - val_loss: 0.0204 - val_accuracy: 0.9936\n",
            "Epoch 23/50\n",
            "1260/1260 [==============================] - 14s 11ms/step - loss: 0.0140 - accuracy: 0.9948 - val_loss: 0.0269 - val_accuracy: 0.9923\n",
            "Epoch 24/50\n",
            "1260/1260 [==============================] - 14s 11ms/step - loss: 0.0141 - accuracy: 0.9954 - val_loss: 0.0328 - val_accuracy: 0.9891\n",
            "Epoch 25/50\n",
            "1260/1260 [==============================] - 18s 14ms/step - loss: 0.0135 - accuracy: 0.9952 - val_loss: 0.0297 - val_accuracy: 0.9891\n",
            "Epoch 26/50\n",
            "1260/1260 [==============================] - 14s 11ms/step - loss: 0.0137 - accuracy: 0.9952 - val_loss: 0.0223 - val_accuracy: 0.9933\n",
            "Epoch 27/50\n",
            "1260/1260 [==============================] - 14s 11ms/step - loss: 0.0135 - accuracy: 0.9953 - val_loss: 0.0326 - val_accuracy: 0.9901\n",
            "Epoch 28/50\n",
            "1260/1260 [==============================] - 14s 11ms/step - loss: 0.0163 - accuracy: 0.9946 - val_loss: 0.0216 - val_accuracy: 0.9935\n",
            "Epoch 29/50\n",
            "1260/1260 [==============================] - 15s 12ms/step - loss: 0.0113 - accuracy: 0.9962 - val_loss: 0.0177 - val_accuracy: 0.9962\n",
            "Epoch 30/50\n",
            "1260/1260 [==============================] - 14s 11ms/step - loss: 0.0146 - accuracy: 0.9945 - val_loss: 0.0314 - val_accuracy: 0.9907\n",
            "Epoch 31/50\n",
            "1260/1260 [==============================] - 14s 11ms/step - loss: 0.0152 - accuracy: 0.9945 - val_loss: 0.0240 - val_accuracy: 0.9938\n",
            "Epoch 32/50\n",
            "1260/1260 [==============================] - 14s 11ms/step - loss: 0.0142 - accuracy: 0.9949 - val_loss: 0.0248 - val_accuracy: 0.9927\n",
            "Epoch 33/50\n",
            "1260/1260 [==============================] - 16s 12ms/step - loss: 0.0123 - accuracy: 0.9958 - val_loss: 0.0238 - val_accuracy: 0.9927\n",
            "Epoch 34/50\n",
            "1260/1260 [==============================] - 14s 11ms/step - loss: 0.0106 - accuracy: 0.9960 - val_loss: 0.0209 - val_accuracy: 0.9944\n",
            "Epoch 35/50\n",
            "1260/1260 [==============================] - 14s 11ms/step - loss: 0.0110 - accuracy: 0.9965 - val_loss: 0.0225 - val_accuracy: 0.9944\n",
            "Epoch 36/50\n",
            "1260/1260 [==============================] - 14s 11ms/step - loss: 0.0131 - accuracy: 0.9952 - val_loss: 0.0274 - val_accuracy: 0.9929\n",
            "Epoch 37/50\n",
            "1260/1260 [==============================] - 14s 11ms/step - loss: 0.0123 - accuracy: 0.9960 - val_loss: 0.0322 - val_accuracy: 0.9895\n",
            "Epoch 38/50\n",
            "1260/1260 [==============================] - 14s 11ms/step - loss: 0.0110 - accuracy: 0.9964 - val_loss: 0.0282 - val_accuracy: 0.9929\n",
            "Epoch 39/50\n",
            "1260/1260 [==============================] - 14s 11ms/step - loss: 0.0122 - accuracy: 0.9953 - val_loss: 0.0217 - val_accuracy: 0.9948\n",
            "Epoch 40/50\n",
            "1260/1260 [==============================] - 14s 11ms/step - loss: 0.0108 - accuracy: 0.9962 - val_loss: 0.0468 - val_accuracy: 0.9875\n",
            "Epoch 41/50\n",
            "1260/1260 [==============================] - 16s 13ms/step - loss: 0.0099 - accuracy: 0.9965 - val_loss: 0.0316 - val_accuracy: 0.9927\n",
            "Epoch 42/50\n",
            "1260/1260 [==============================] - 16s 13ms/step - loss: 0.0100 - accuracy: 0.9967 - val_loss: 0.0307 - val_accuracy: 0.9923\n",
            "Epoch 43/50\n",
            "1260/1260 [==============================] - 15s 12ms/step - loss: 0.0110 - accuracy: 0.9961 - val_loss: 0.0229 - val_accuracy: 0.9940\n",
            "Epoch 44/50\n",
            "1260/1260 [==============================] - 14s 11ms/step - loss: 0.0095 - accuracy: 0.9965 - val_loss: 0.0260 - val_accuracy: 0.9944\n",
            "Epoch 45/50\n",
            "1260/1260 [==============================] - 14s 11ms/step - loss: 0.0074 - accuracy: 0.9979 - val_loss: 0.0327 - val_accuracy: 0.9929\n",
            "Epoch 46/50\n",
            "1260/1260 [==============================] - 14s 11ms/step - loss: 0.0087 - accuracy: 0.9966 - val_loss: 0.0253 - val_accuracy: 0.9948\n",
            "Epoch 47/50\n",
            "1260/1260 [==============================] - 16s 12ms/step - loss: 0.0077 - accuracy: 0.9970 - val_loss: 0.0259 - val_accuracy: 0.9946\n",
            "Epoch 48/50\n",
            "1260/1260 [==============================] - 14s 11ms/step - loss: 0.0088 - accuracy: 0.9969 - val_loss: 0.0219 - val_accuracy: 0.9944\n",
            "Epoch 49/50\n",
            "1260/1260 [==============================] - 14s 11ms/step - loss: 0.0102 - accuracy: 0.9966 - val_loss: 0.0279 - val_accuracy: 0.9935\n",
            "Epoch 50/50\n",
            "1260/1260 [==============================] - 14s 11ms/step - loss: 0.0084 - accuracy: 0.9970 - val_loss: 0.0278 - val_accuracy: 0.9935\n"
          ]
        },
        {
          "output_type": "execute_result",
          "data": {
            "text/plain": [
              "<keras.src.callbacks.History at 0x7a29a275c610>"
            ]
          },
          "metadata": {},
          "execution_count": 41
        }
      ]
    },
    {
      "cell_type": "code",
      "source": [
        "bidirectional_predict = bidirectional_gru_model.predict(x_val)\n",
        "bidirectional_class = (bidirectional_predict > 0.5).astype('int32')"
      ],
      "metadata": {
        "colab": {
          "base_uri": "https://localhost:8080/"
        },
        "id": "_NlLPjC2018D",
        "outputId": "8fcd4fe2-6a1c-4055-e2bd-55429e4cc4e2"
      },
      "execution_count": null,
      "outputs": [
        {
          "output_type": "stream",
          "name": "stdout",
          "text": [
            "158/158 [==============================] - 3s 7ms/step\n"
          ]
        }
      ]
    },
    {
      "cell_type": "code",
      "source": [
        "bidirectional_accuracy=accuracy_score(y_val_encoded, bidirectional_class)\n",
        "bidirectional_report=classification_report(y_val_encoded, bidirectional_class)\n",
        "print(f\"Accuracy: {bidirectional_accuracy}\")\n",
        "print(f\"Report: {bidirectional_report}\")"
      ],
      "metadata": {
        "colab": {
          "base_uri": "https://localhost:8080/"
        },
        "id": "9ryr7uxm6JZs",
        "outputId": "17d5276c-0c4e-4a96-f144-0c77721d536f"
      },
      "execution_count": null,
      "outputs": [
        {
          "output_type": "stream",
          "name": "stdout",
          "text": [
            "Accuracy: 0.9934510815638024\n",
            "Report:               precision    recall  f1-score   support\n",
            "\n",
            "           0       1.00      0.99      0.99      2365\n",
            "           1       0.99      1.00      0.99      2674\n",
            "\n",
            "    accuracy                           0.99      5039\n",
            "   macro avg       0.99      0.99      0.99      5039\n",
            "weighted avg       0.99      0.99      0.99      5039\n",
            "\n"
          ]
        }
      ]
    },
    {
      "cell_type": "markdown",
      "source": [
        "# ***CNN-GRU Combined Accuracy--------> 10min***"
      ],
      "metadata": {
        "id": "0H0ykDjSY6qH"
      }
    },
    {
      "cell_type": "code",
      "source": [
        "input_layer = Input(shape=(final.shape[1], 1))\n",
        "\n",
        "# CNN part\n",
        "cnn_layer = Conv1D(filters=64, kernel_size=3, activation='relu')(input_layer)\n",
        "cnn_layer = MaxPooling1D(pool_size=2)(cnn_layer)\n",
        "cnn_layer = Flatten()(cnn_layer)\n",
        "\n",
        "# GRU part\n",
        "gru_layer = GRU(64)(input_layer)\n",
        "\n",
        "# Concatenate the output of CNN and GRU\n",
        "merged_layer = concatenate([cnn_layer, gru_layer])\n",
        "\n",
        "# Dense layers\n",
        "dense_layer = Dense(128, activation='relu')(merged_layer)\n",
        "dense_layer = Dropout(0.5)(dense_layer)\n",
        "output_layer = Dense(1, activation='sigmoid')(dense_layer)\n",
        "\n",
        "# Create the combined model\n",
        "cnn_gru_model = Model(inputs=input_layer, outputs=output_layer)\n",
        "\n",
        "# Compile the model\n",
        "cnn_gru_model.compile(optimizer='adam', loss='binary_crossentropy', metrics=['accuracy'])\n",
        "\n",
        "# Train the combined model\n",
        "cnn_gru_model.fit(x_train, y_train_encoded, epochs=50, batch_size=16, validation_data=(x_val, y_val_encoded))\n"
      ],
      "metadata": {
        "colab": {
          "base_uri": "https://localhost:8080/"
        },
        "id": "isC6J3-q6YU6",
        "outputId": "d8d2bceb-b3a3-406d-f1b3-4b1e4be5d9ec"
      },
      "execution_count": null,
      "outputs": [
        {
          "output_type": "stream",
          "name": "stdout",
          "text": [
            "Epoch 1/50\n",
            "1103/1103 [==============================] - 13s 10ms/step - loss: 3.3359 - accuracy: 0.8678 - val_loss: 0.3545 - val_accuracy: 0.9131\n",
            "Epoch 2/50\n",
            "1103/1103 [==============================] - 10s 9ms/step - loss: 0.2385 - accuracy: 0.9088 - val_loss: 0.1962 - val_accuracy: 0.9283\n",
            "Epoch 3/50\n",
            "1103/1103 [==============================] - 9s 8ms/step - loss: 0.1919 - accuracy: 0.9351 - val_loss: 0.1426 - val_accuracy: 0.9528\n",
            "Epoch 4/50\n",
            "1103/1103 [==============================] - 10s 9ms/step - loss: 0.2194 - accuracy: 0.9422 - val_loss: 0.1305 - val_accuracy: 0.9557\n",
            "Epoch 5/50\n",
            "1103/1103 [==============================] - 10s 9ms/step - loss: 0.1821 - accuracy: 0.9440 - val_loss: 0.1273 - val_accuracy: 0.9563\n",
            "Epoch 6/50\n",
            "1103/1103 [==============================] - 9s 9ms/step - loss: 0.1670 - accuracy: 0.9471 - val_loss: 0.1279 - val_accuracy: 0.9561\n",
            "Epoch 7/50\n",
            "1103/1103 [==============================] - 10s 9ms/step - loss: 0.1772 - accuracy: 0.9482 - val_loss: 0.1300 - val_accuracy: 0.9559\n",
            "Epoch 8/50\n",
            "1103/1103 [==============================] - 10s 9ms/step - loss: 0.1545 - accuracy: 0.9497 - val_loss: 0.1234 - val_accuracy: 0.9594\n",
            "Epoch 9/50\n",
            "1103/1103 [==============================] - 9s 8ms/step - loss: 0.1435 - accuracy: 0.9519 - val_loss: 0.1251 - val_accuracy: 0.9567\n",
            "Epoch 10/50\n",
            "1103/1103 [==============================] - 11s 10ms/step - loss: 0.1536 - accuracy: 0.9510 - val_loss: 0.1267 - val_accuracy: 0.9573\n",
            "Epoch 11/50\n",
            "1103/1103 [==============================] - 11s 10ms/step - loss: 0.1714 - accuracy: 0.9520 - val_loss: 0.1183 - val_accuracy: 0.9592\n",
            "Epoch 12/50\n",
            "1103/1103 [==============================] - 9s 8ms/step - loss: 0.1809 - accuracy: 0.9521 - val_loss: 0.1178 - val_accuracy: 0.9594\n",
            "Epoch 13/50\n",
            "1103/1103 [==============================] - 10s 9ms/step - loss: 0.1371 - accuracy: 0.9526 - val_loss: 0.1192 - val_accuracy: 0.9579\n",
            "Epoch 14/50\n",
            "1103/1103 [==============================] - 10s 9ms/step - loss: 0.2011 - accuracy: 0.9526 - val_loss: 0.1185 - val_accuracy: 0.9565\n",
            "Epoch 15/50\n",
            "1103/1103 [==============================] - 9s 8ms/step - loss: 0.1286 - accuracy: 0.9554 - val_loss: 0.1145 - val_accuracy: 0.9599\n",
            "Epoch 16/50\n",
            "1103/1103 [==============================] - 10s 9ms/step - loss: 0.1458 - accuracy: 0.9534 - val_loss: 0.1214 - val_accuracy: 0.9559\n",
            "Epoch 17/50\n",
            "1103/1103 [==============================] - 11s 10ms/step - loss: 0.1278 - accuracy: 0.9558 - val_loss: 0.1113 - val_accuracy: 0.9578\n",
            "Epoch 18/50\n",
            "1103/1103 [==============================] - 9s 8ms/step - loss: 0.1337 - accuracy: 0.9545 - val_loss: 0.1099 - val_accuracy: 0.9607\n",
            "Epoch 19/50\n",
            "1103/1103 [==============================] - 11s 10ms/step - loss: 0.1635 - accuracy: 0.9552 - val_loss: 0.1128 - val_accuracy: 0.9557\n",
            "Epoch 20/50\n",
            "1103/1103 [==============================] - 11s 10ms/step - loss: 0.1316 - accuracy: 0.9547 - val_loss: 0.3326 - val_accuracy: 0.9598\n",
            "Epoch 21/50\n",
            "1103/1103 [==============================] - 9s 8ms/step - loss: 0.1272 - accuracy: 0.9559 - val_loss: 0.1337 - val_accuracy: 0.9452\n",
            "Epoch 22/50\n",
            "1103/1103 [==============================] - 11s 10ms/step - loss: 0.1265 - accuracy: 0.9553 - val_loss: 0.1089 - val_accuracy: 0.9602\n",
            "Epoch 23/50\n",
            "1103/1103 [==============================] - 10s 9ms/step - loss: 0.1228 - accuracy: 0.9556 - val_loss: 0.1180 - val_accuracy: 0.9583\n",
            "Epoch 24/50\n",
            "1103/1103 [==============================] - 9s 8ms/step - loss: 0.1191 - accuracy: 0.9575 - val_loss: 0.1063 - val_accuracy: 0.9614\n",
            "Epoch 25/50\n",
            "1103/1103 [==============================] - 11s 10ms/step - loss: 0.1157 - accuracy: 0.9573 - val_loss: 0.1028 - val_accuracy: 0.9619\n",
            "Epoch 26/50\n",
            "1103/1103 [==============================] - 10s 9ms/step - loss: 0.1272 - accuracy: 0.9577 - val_loss: 0.1032 - val_accuracy: 0.9603\n",
            "Epoch 27/50\n",
            "1103/1103 [==============================] - 9s 8ms/step - loss: 0.1165 - accuracy: 0.9561 - val_loss: 0.1055 - val_accuracy: 0.9603\n",
            "Epoch 28/50\n",
            "1103/1103 [==============================] - 10s 9ms/step - loss: 0.1168 - accuracy: 0.9566 - val_loss: 0.1030 - val_accuracy: 0.9612\n",
            "Epoch 29/50\n",
            "1103/1103 [==============================] - 10s 9ms/step - loss: 0.1187 - accuracy: 0.9569 - val_loss: 0.1095 - val_accuracy: 0.9579\n",
            "Epoch 30/50\n",
            "1103/1103 [==============================] - 9s 8ms/step - loss: 0.1173 - accuracy: 0.9590 - val_loss: 0.1058 - val_accuracy: 0.9667\n",
            "Epoch 31/50\n",
            "1103/1103 [==============================] - 11s 10ms/step - loss: 0.1321 - accuracy: 0.9604 - val_loss: 0.1042 - val_accuracy: 0.9619\n",
            "Epoch 32/50\n",
            "1103/1103 [==============================] - 10s 9ms/step - loss: 0.1054 - accuracy: 0.9618 - val_loss: 0.1039 - val_accuracy: 0.9640\n",
            "Epoch 33/50\n",
            "1103/1103 [==============================] - 9s 8ms/step - loss: 0.1001 - accuracy: 0.9644 - val_loss: 0.1002 - val_accuracy: 0.9664\n",
            "Epoch 34/50\n",
            "1103/1103 [==============================] - 11s 10ms/step - loss: 0.1032 - accuracy: 0.9630 - val_loss: 0.0942 - val_accuracy: 0.9688\n",
            "Epoch 35/50\n",
            "1103/1103 [==============================] - 11s 10ms/step - loss: 0.0982 - accuracy: 0.9657 - val_loss: 0.0891 - val_accuracy: 0.9694\n",
            "Epoch 36/50\n",
            "1103/1103 [==============================] - 9s 8ms/step - loss: 0.0929 - accuracy: 0.9655 - val_loss: 0.0873 - val_accuracy: 0.9697\n",
            "Epoch 37/50\n",
            "1103/1103 [==============================] - 10s 10ms/step - loss: 0.0929 - accuracy: 0.9664 - val_loss: 0.0882 - val_accuracy: 0.9689\n",
            "Epoch 38/50\n",
            "1103/1103 [==============================] - 10s 9ms/step - loss: 0.0904 - accuracy: 0.9674 - val_loss: 0.0851 - val_accuracy: 0.9690\n",
            "Epoch 39/50\n",
            "1103/1103 [==============================] - 9s 8ms/step - loss: 0.1034 - accuracy: 0.9677 - val_loss: 0.0869 - val_accuracy: 0.9668\n",
            "Epoch 40/50\n",
            "1103/1103 [==============================] - 11s 10ms/step - loss: 0.0895 - accuracy: 0.9668 - val_loss: 0.0843 - val_accuracy: 0.9692\n",
            "Epoch 41/50\n",
            "1103/1103 [==============================] - 11s 10ms/step - loss: 0.0919 - accuracy: 0.9661 - val_loss: 0.0862 - val_accuracy: 0.9692\n",
            "Epoch 42/50\n",
            "1103/1103 [==============================] - 9s 8ms/step - loss: 0.0891 - accuracy: 0.9661 - val_loss: 0.0839 - val_accuracy: 0.9705\n",
            "Epoch 43/50\n",
            "1103/1103 [==============================] - 10s 9ms/step - loss: 0.0867 - accuracy: 0.9676 - val_loss: 0.0883 - val_accuracy: 0.9705\n",
            "Epoch 44/50\n",
            "1103/1103 [==============================] - 11s 10ms/step - loss: 0.0870 - accuracy: 0.9674 - val_loss: 0.0862 - val_accuracy: 0.9701\n",
            "Epoch 45/50\n",
            "1103/1103 [==============================] - 9s 8ms/step - loss: 0.0843 - accuracy: 0.9674 - val_loss: 0.0977 - val_accuracy: 0.9701\n",
            "Epoch 46/50\n",
            "1103/1103 [==============================] - 10s 9ms/step - loss: 0.0864 - accuracy: 0.9689 - val_loss: 0.0862 - val_accuracy: 0.9684\n",
            "Epoch 47/50\n",
            "1103/1103 [==============================] - 10s 9ms/step - loss: 0.0849 - accuracy: 0.9677 - val_loss: 0.0877 - val_accuracy: 0.9671\n",
            "Epoch 48/50\n",
            "1103/1103 [==============================] - 9s 8ms/step - loss: 0.0855 - accuracy: 0.9669 - val_loss: 0.0856 - val_accuracy: 0.9678\n",
            "Epoch 49/50\n",
            "1103/1103 [==============================] - 10s 9ms/step - loss: 0.0836 - accuracy: 0.9691 - val_loss: 0.0888 - val_accuracy: 0.9698\n",
            "Epoch 50/50\n",
            "1103/1103 [==============================] - 10s 9ms/step - loss: 0.0824 - accuracy: 0.9699 - val_loss: 0.0929 - val_accuracy: 0.9652\n"
          ]
        },
        {
          "output_type": "execute_result",
          "data": {
            "text/plain": [
              "<keras.src.callbacks.History at 0x780c61fd5bd0>"
            ]
          },
          "metadata": {},
          "execution_count": 55
        }
      ]
    },
    {
      "cell_type": "code",
      "source": [
        "with tempfile.NamedTemporaryFile(suffix='.png', delete=False) as tmpfile:\n",
        "    plot_model(cnn_gru_model, to_file=tmpfile.name, show_shapes=True, show_layer_names=True)\n",
        "    display(Image(tmpfile.name))"
      ],
      "metadata": {
        "colab": {
          "base_uri": "https://localhost:8080/",
          "height": 865
        },
        "id": "MlmyXL7CnQAP",
        "outputId": "f46af564-28cf-4df0-f1b5-c9d02619a6db"
      },
      "execution_count": null,
      "outputs": [
        {
          "output_type": "display_data",
          "data": {
            "image/png": "[encoded data removed]",
            "text/plain": [
              "<IPython.core.display.Image object>"
            ]
          },
          "metadata": {}
        }
      ]
    },
    {
      "cell_type": "code",
      "source": [
        "cnn_gru = cnn_gru_model.predict(x_val)\n",
        "cnn_gru_class = (cnn_gru > 0.5).astype('int32')"
      ],
      "metadata": {
        "colab": {
          "base_uri": "https://localhost:8080/"
        },
        "id": "rJyNEsI6W36j",
        "outputId": "a741eb2d-e106-41c4-9086-3c316ba64c08"
      },
      "execution_count": null,
      "outputs": [
        {
          "output_type": "stream",
          "name": "stdout",
          "text": [
            "158/158 [==============================] - 1s 3ms/step\n"
          ]
        }
      ]
    },
    {
      "cell_type": "code",
      "source": [
        "cnn_gru_accuracy=accuracy_score(y_val_encoded, cnn_gru_class)\n",
        "cnn_gru_report=classification_report(y_val_encoded, cnn_gru_class)\n",
        "print(f\"Accuracy: {cnn_gru_accuracy}\")\n",
        "print(f\"Report: {cnn_gru_report}\")"
      ],
      "metadata": {
        "colab": {
          "base_uri": "https://localhost:8080/"
        },
        "id": "7-MYisEVXBor",
        "outputId": "ecd380e0-0884-43e1-9cbc-3ce9c3d6608a"
      },
      "execution_count": null,
      "outputs": [
        {
          "output_type": "stream",
          "name": "stdout",
          "text": [
            "Accuracy: 0.981543957134352\n",
            "Report:               precision    recall  f1-score   support\n",
            "\n",
            "           0       0.99      0.97      0.98      2365\n",
            "           1       0.97      0.99      0.98      2674\n",
            "\n",
            "    accuracy                           0.98      5039\n",
            "   macro avg       0.98      0.98      0.98      5039\n",
            "weighted avg       0.98      0.98      0.98      5039\n",
            "\n"
          ]
        }
      ]
    },
    {
      "cell_type": "code",
      "source": [
        "from sklearn.metrics import confusion_matrix\n",
        "import matplotlib.pyplot as plt\n",
        "plt.figure(figsize=(8, 6))\n",
        "sns.histplot(data=y_val_encoded, bins=20, kde=True, color='blue')\n",
        "plt.title('Distribution of Target Variable')\n",
        "plt.xlabel('Target Variable')\n",
        "plt.ylabel('Frequency')\n",
        "plt.show()"
      ],
      "metadata": {
        "colab": {
          "base_uri": "https://localhost:8080/",
          "height": 564
        },
        "id": "eWG7nDsjA_wp",
        "outputId": "2a96c517-2e8e-4022-d920-b26f57d87542"
      },
      "execution_count": null,
      "outputs": [
        {
          "output_type": "display_data",
          "data": {
            "text/plain": [
              "<Figure size 800x600 with 1 Axes>"
            ],
            "image/png": "[encoded data removed]"
          },
          "metadata": {}
        }
      ]
    },
    {
      "cell_type": "code",
      "source": [
        "plt.figure(figsize=(8, 6))\n",
        "plt.scatter(y_val_encoded, cnn_gru, color='red')\n",
        "plt.title('Actual vs Predicted Values')\n",
        "plt.xlabel('Actual')\n",
        "plt.ylabel('Predicted')\n",
        "plt.show()"
      ],
      "metadata": {
        "colab": {
          "base_uri": "https://localhost:8080/",
          "height": 564
        },
        "id": "4LHPTDaaD4Ll",
        "outputId": "8cf118d1-5d79-460e-9831-492c598afa97"
      },
      "execution_count": null,
      "outputs": [
        {
          "output_type": "display_data",
          "data": {
            "text/plain": [
              "<Figure size 800x600 with 1 Axes>"
            ],
            "image/png": "[encoded data removed]"
          },
          "metadata": {}
        }
      ]
    },
    {
      "cell_type": "code",
      "source": [
        "y_val_encoded.shape"
      ],
      "metadata": {
        "colab": {
          "base_uri": "https://localhost:8080/"
        },
        "id": "CRJjywzW0H35",
        "outputId": "7bf60c50-4456-4020-a988-5a838de07a2d"
      },
      "execution_count": null,
      "outputs": [
        {
          "output_type": "execute_result",
          "data": {
            "text/plain": [
              "(5039,)"
            ]
          },
          "metadata": {},
          "execution_count": 95
        }
      ]
    },
    {
      "cell_type": "code",
      "source": [
        "cnn_gru_discrete = (cnn_gru > 0.5).astype(int)\n",
        "conf_matrix = confusion_matrix(y_val_encoded, cnn_gru_discrete)\n",
        "plt.figure(figsize=(8, 6))\n",
        "sns.heatmap(conf_matrix, annot=True, fmt='d', cmap='Blues', xticklabels=np.unique(y_val_encoded), yticklabels=np.unique(y_val_encoded))\n",
        "plt.title('Confusion Matrix')\n",
        "plt.xlabel('Predicted')\n",
        "plt.ylabel('Actual')\n",
        "plt.show()"
      ],
      "metadata": {
        "colab": {
          "base_uri": "https://localhost:8080/",
          "height": 564
        },
        "id": "KFVv7_NIELI8",
        "outputId": "75d227f9-9ec7-4fd1-bd8f-709206aa656f"
      },
      "execution_count": null,
      "outputs": [
        {
          "output_type": "display_data",
          "data": {
            "text/plain": [
              "<Figure size 800x600 with 2 Axes>"
            ],
            "image/png": "[encoded data removed]"
          },
          "metadata": {}
        }
      ]
    },
    {
      "cell_type": "code",
      "source": [
        "import numpy as np\n",
        "import matplotlib.pyplot as plt\n",
        "\n",
        "# Example confusion matrix\n",
        "conf_matrix = np.array([[2647, 110],\n",
        "                        [27, 2255]])\n",
        "\n",
        "# Extracting values from the confusion matrix\n",
        "true_negative, false_positive, false_negative, true_positive = conf_matrix.ravel()\n",
        "\n",
        "# Plotting the confusion matrix as a bar plot\n",
        "labels = ['True Negative', 'False Positive', 'False Negative', 'True Positive']\n",
        "values = [true_negative, false_positive, false_negative, true_positive]\n",
        "\n",
        "plt.figure(figsize=(8, 6))\n",
        "plt.bar(labels, values)\n",
        "plt.xlabel('Predicted')\n",
        "plt.ylabel('Counts')\n",
        "plt.title('Confusion Matrix')\n",
        "plt.show()\n"
      ],
      "metadata": {
        "colab": {
          "base_uri": "https://localhost:8080/",
          "height": 564
        },
        "id": "X8jS7QC31Sgg",
        "outputId": "1d655a06-3df5-4c31-f0ef-fc89239c8d84"
      },
      "execution_count": null,
      "outputs": [
        {
          "output_type": "display_data",
          "data": {
            "text/plain": [
              "<Figure size 800x600 with 1 Axes>"
            ],
            "image/png": "[encoded data removed]"
          },
          "metadata": {}
        }
      ]
    },
    {
      "cell_type": "markdown",
      "source": [
        "# ***CNN-Bidirectiona GRU Combined Accuracy--------> 29min 33sec***"
      ],
      "metadata": {
        "id": "m9JVoMf5ZXCo"
      }
    },
    {
      "cell_type": "code",
      "source": [
        "input_layer = Input(shape=(final.shape[1], 1))\n",
        "\n",
        "# CNN part\n",
        "cnn_layer = Conv1D(filters=64, kernel_size=3, activation='relu')(input_layer)\n",
        "cnn_layer = MaxPooling1D(pool_size=2)(cnn_layer)\n",
        "cnn_layer = Flatten()(cnn_layer)\n",
        "\n",
        "# Bi-GRU part\n",
        "bi_gru_layer = Bidirectional(GRU(64, return_sequences=True))(input_layer)\n",
        "bi_gru_layer = Bidirectional(GRU(64))(bi_gru_layer)\n",
        "\n",
        "# Concatenate the output of CNN and Bi-GRU\n",
        "merged_layer = concatenate([cnn_layer, bi_gru_layer])\n",
        "\n",
        "# Dense layers\n",
        "dense_layer = Dense(128, activation='relu')(merged_layer)\n",
        "dense_layer = Dropout(0.5)(dense_layer)\n",
        "output_layer = Dense(1, activation='sigmoid')(dense_layer)\n",
        "\n",
        "# Create the combined model\n",
        "combined_model = Model(inputs=input_layer, outputs=output_layer)\n",
        "\n",
        "# Compile the model\n",
        "combined_model.compile(optimizer='adam', loss='binary_crossentropy', metrics=['accuracy'])\n",
        "\n",
        "# Train the combined model\n",
        "combined_model.fit(x_train, y_train_encoded, epochs=50, batch_size=16, validation_data=(x_val, y_val_encoded))\n"
      ],
      "metadata": {
        "colab": {
          "base_uri": "https://localhost:8080/"
        },
        "id": "7WF_Pxy6IW6i",
        "outputId": "f48986e2-84d8-4954-f9dd-8e72973064af"
      },
      "execution_count": null,
      "outputs": [
        {
          "output_type": "stream",
          "name": "stdout",
          "text": [
            "Epoch 1/50\n",
            "1260/1260 [==============================] - 46s 29ms/step - loss: 312.7972 - accuracy: 0.9074 - val_loss: 651.0630 - val_accuracy: 0.9595\n",
            "Epoch 2/50\n",
            "1260/1260 [==============================] - 34s 27ms/step - loss: 994.3588 - accuracy: 0.9336 - val_loss: 636.8628 - val_accuracy: 0.9464\n",
            "Epoch 3/50\n",
            "1260/1260 [==============================] - 38s 30ms/step - loss: 2736.1248 - accuracy: 0.9350 - val_loss: 322.0369 - val_accuracy: 0.9645\n",
            "Epoch 4/50\n",
            "1260/1260 [==============================] - 36s 28ms/step - loss: 2325.1692 - accuracy: 0.9398 - val_loss: 326.0858 - val_accuracy: 0.9605\n",
            "Epoch 5/50\n",
            "1260/1260 [==============================] - 33s 26ms/step - loss: 1092.9406 - accuracy: 0.9447 - val_loss: 214.5855 - val_accuracy: 0.9675\n",
            "Epoch 6/50\n",
            "1260/1260 [==============================] - 34s 27ms/step - loss: 1023.4137 - accuracy: 0.9518 - val_loss: 51.6193 - val_accuracy: 0.9625\n",
            "Epoch 7/50\n",
            "1260/1260 [==============================] - 35s 28ms/step - loss: 1769.4558 - accuracy: 0.9531 - val_loss: 285.8640 - val_accuracy: 0.9637\n",
            "Epoch 8/50\n",
            "1260/1260 [==============================] - 35s 28ms/step - loss: 407.8238 - accuracy: 0.9587 - val_loss: 460.3583 - val_accuracy: 0.9579\n",
            "Epoch 9/50\n",
            "1260/1260 [==============================] - 41s 32ms/step - loss: 143.3468 - accuracy: 0.9574 - val_loss: 79.8922 - val_accuracy: 0.9232\n",
            "Epoch 10/50\n",
            "1260/1260 [==============================] - 33s 26ms/step - loss: 1362.5352 - accuracy: 0.9546 - val_loss: 278.1966 - val_accuracy: 0.9679\n",
            "Epoch 11/50\n",
            "1260/1260 [==============================] - 34s 27ms/step - loss: 166.1987 - accuracy: 0.9603 - val_loss: 185.3660 - val_accuracy: 0.9540\n",
            "Epoch 12/50\n",
            "1260/1260 [==============================] - 33s 26ms/step - loss: 1894.2142 - accuracy: 0.9587 - val_loss: 55.3787 - val_accuracy: 0.9690\n",
            "Epoch 13/50\n",
            "1260/1260 [==============================] - 34s 27ms/step - loss: 133.9107 - accuracy: 0.9579 - val_loss: 28.7351 - val_accuracy: 0.9682\n",
            "Epoch 14/50\n",
            "1260/1260 [==============================] - 37s 29ms/step - loss: 51.7790 - accuracy: 0.9591 - val_loss: 8.1602 - val_accuracy: 0.9655\n",
            "Epoch 15/50\n",
            "1260/1260 [==============================] - 34s 27ms/step - loss: 688.8085 - accuracy: 0.9613 - val_loss: 3.3329 - val_accuracy: 0.9736\n",
            "Epoch 16/50\n",
            "1260/1260 [==============================] - 36s 29ms/step - loss: 38.1156 - accuracy: 0.9629 - val_loss: 25.0256 - val_accuracy: 0.9694\n",
            "Epoch 17/50\n",
            "1260/1260 [==============================] - 33s 27ms/step - loss: 7.1704 - accuracy: 0.9686 - val_loss: 0.8767 - val_accuracy: 0.9792\n",
            "Epoch 18/50\n",
            "1260/1260 [==============================] - 34s 27ms/step - loss: 16.6776 - accuracy: 0.9713 - val_loss: 6.9809 - val_accuracy: 0.9776\n",
            "Epoch 19/50\n",
            "1260/1260 [==============================] - 37s 29ms/step - loss: 4.6149 - accuracy: 0.9727 - val_loss: 0.0692 - val_accuracy: 0.9794\n",
            "Epoch 20/50\n",
            "1260/1260 [==============================] - 33s 26ms/step - loss: 0.5366 - accuracy: 0.9740 - val_loss: 0.2812 - val_accuracy: 0.9772\n",
            "Epoch 21/50\n",
            "1260/1260 [==============================] - 32s 26ms/step - loss: 0.1062 - accuracy: 0.9762 - val_loss: 0.3324 - val_accuracy: 0.9809\n",
            "Epoch 22/50\n",
            "1260/1260 [==============================] - 33s 26ms/step - loss: 0.3455 - accuracy: 0.9751 - val_loss: 0.0741 - val_accuracy: 0.9800\n",
            "Epoch 23/50\n",
            "1260/1260 [==============================] - 34s 27ms/step - loss: 0.0817 - accuracy: 0.9783 - val_loss: 0.0657 - val_accuracy: 0.9813\n",
            "Epoch 24/50\n",
            "1260/1260 [==============================] - 41s 32ms/step - loss: 0.1009 - accuracy: 0.9760 - val_loss: 0.0733 - val_accuracy: 0.9825\n",
            "Epoch 25/50\n",
            "1260/1260 [==============================] - 35s 28ms/step - loss: 0.0960 - accuracy: 0.9778 - val_loss: 0.0728 - val_accuracy: 0.9794\n",
            "Epoch 26/50\n",
            "1260/1260 [==============================] - 35s 28ms/step - loss: 0.1366 - accuracy: 0.9775 - val_loss: 0.0782 - val_accuracy: 0.9796\n",
            "Epoch 27/50\n",
            "1260/1260 [==============================] - 34s 27ms/step - loss: 0.0855 - accuracy: 0.9781 - val_loss: 0.0672 - val_accuracy: 0.9815\n",
            "Epoch 28/50\n",
            "1260/1260 [==============================] - 33s 26ms/step - loss: 0.0763 - accuracy: 0.9794 - val_loss: 1.1961 - val_accuracy: 0.9825\n",
            "Epoch 29/50\n",
            "1260/1260 [==============================] - 37s 29ms/step - loss: 7.2570 - accuracy: 0.9782 - val_loss: 0.0618 - val_accuracy: 0.9841\n",
            "Epoch 30/50\n",
            "1260/1260 [==============================] - 35s 28ms/step - loss: 0.0744 - accuracy: 0.9808 - val_loss: 0.0596 - val_accuracy: 0.9847\n",
            "Epoch 31/50\n",
            "1260/1260 [==============================] - 34s 27ms/step - loss: 0.0785 - accuracy: 0.9798 - val_loss: 0.0638 - val_accuracy: 0.9835\n",
            "Epoch 32/50\n",
            "1260/1260 [==============================] - 34s 27ms/step - loss: 0.0878 - accuracy: 0.9804 - val_loss: 0.0569 - val_accuracy: 0.9849\n",
            "Epoch 33/50\n",
            "1260/1260 [==============================] - 35s 27ms/step - loss: 0.0761 - accuracy: 0.9805 - val_loss: 0.0803 - val_accuracy: 0.9792\n",
            "Epoch 34/50\n",
            "1260/1260 [==============================] - 37s 30ms/step - loss: 0.6054 - accuracy: 0.9768 - val_loss: 0.0644 - val_accuracy: 0.9827\n",
            "Epoch 35/50\n",
            "1260/1260 [==============================] - 37s 29ms/step - loss: 0.0793 - accuracy: 0.9801 - val_loss: 0.0604 - val_accuracy: 0.9851\n",
            "Epoch 36/50\n",
            "1260/1260 [==============================] - 34s 27ms/step - loss: 0.0821 - accuracy: 0.9800 - val_loss: 0.0711 - val_accuracy: 0.9849\n",
            "Epoch 37/50\n",
            "1260/1260 [==============================] - 34s 27ms/step - loss: 0.0801 - accuracy: 0.9801 - val_loss: 0.0552 - val_accuracy: 0.9853\n",
            "Epoch 38/50\n",
            "1260/1260 [==============================] - 34s 27ms/step - loss: 0.2785 - accuracy: 0.9789 - val_loss: 0.0628 - val_accuracy: 0.9845\n",
            "Epoch 39/50\n",
            "1260/1260 [==============================] - 37s 29ms/step - loss: 0.0852 - accuracy: 0.9790 - val_loss: 0.0607 - val_accuracy: 0.9845\n",
            "Epoch 40/50\n",
            "1260/1260 [==============================] - 33s 27ms/step - loss: 0.0782 - accuracy: 0.9803 - val_loss: 0.0573 - val_accuracy: 0.9851\n",
            "Epoch 41/50\n",
            "1260/1260 [==============================] - 35s 28ms/step - loss: 0.6892 - accuracy: 0.9775 - val_loss: 0.0741 - val_accuracy: 0.9847\n",
            "Epoch 42/50\n",
            "1260/1260 [==============================] - 37s 30ms/step - loss: 0.0840 - accuracy: 0.9804 - val_loss: 0.0733 - val_accuracy: 0.9843\n",
            "Epoch 43/50\n",
            "1260/1260 [==============================] - 35s 28ms/step - loss: 0.0807 - accuracy: 0.9812 - val_loss: 0.0725 - val_accuracy: 0.9855\n",
            "Epoch 44/50\n",
            "1260/1260 [==============================] - 38s 30ms/step - loss: 0.0847 - accuracy: 0.9808 - val_loss: 0.0724 - val_accuracy: 0.9845\n",
            "Epoch 45/50\n",
            "1260/1260 [==============================] - 34s 27ms/step - loss: 0.0838 - accuracy: 0.9810 - val_loss: 0.0781 - val_accuracy: 0.9841\n",
            "Epoch 46/50\n",
            "1260/1260 [==============================] - 34s 27ms/step - loss: 0.0848 - accuracy: 0.9802 - val_loss: 0.0747 - val_accuracy: 0.9847\n",
            "Epoch 47/50\n",
            "1260/1260 [==============================] - 34s 27ms/step - loss: 0.6362 - accuracy: 0.9811 - val_loss: 0.0851 - val_accuracy: 0.9817\n",
            "Epoch 48/50\n",
            "1260/1260 [==============================] - 36s 29ms/step - loss: 0.0944 - accuracy: 0.9773 - val_loss: 0.0728 - val_accuracy: 0.9831\n",
            "Epoch 49/50\n",
            "1260/1260 [==============================] - 37s 29ms/step - loss: 0.0816 - accuracy: 0.9809 - val_loss: 0.0734 - val_accuracy: 0.9851\n",
            "Epoch 50/50\n",
            "1260/1260 [==============================] - 34s 27ms/step - loss: 0.0802 - accuracy: 0.9816 - val_loss: 0.0849 - val_accuracy: 0.9794\n"
          ]
        },
        {
          "output_type": "execute_result",
          "data": {
            "text/plain": [
              "<keras.src.callbacks.History at 0x7ed5d0590bb0>"
            ]
          },
          "metadata": {},
          "execution_count": 61
        }
      ]
    },
    {
      "cell_type": "code",
      "source": [
        "cnn_bigru = combined_model.predict(x_val)\n",
        "cnn_bigru_class = (cnn_bigru > 0.5).astype('int32')"
      ],
      "metadata": {
        "colab": {
          "base_uri": "https://localhost:8080/"
        },
        "id": "ZVtVuXNeLOZl",
        "outputId": "57fc6480-d297-476d-8879-316282eb7427"
      },
      "execution_count": null,
      "outputs": [
        {
          "output_type": "stream",
          "name": "stdout",
          "text": [
            "158/158 [==============================] - 3s 7ms/step\n"
          ]
        }
      ]
    },
    {
      "cell_type": "code",
      "source": [
        "cnn_bigru_accuracy=accuracy_score(y_val_encoded, cnn_bigru_class)\n",
        "cnn_bigru_report=classification_report(y_val_encoded, cnn_bigru_class)\n",
        "print(f\"Accuracy: {cnn_bigru_accuracy}\")\n",
        "print(f\"Report: {cnn_bigru_report}\")"
      ],
      "metadata": {
        "colab": {
          "base_uri": "https://localhost:8080/"
        },
        "id": "dsvG0y7eUOt3",
        "outputId": "22d990ae-e40d-4b4d-900f-93337965be02"
      },
      "execution_count": null,
      "outputs": [
        {
          "output_type": "stream",
          "name": "stdout",
          "text": [
            "Accuracy: 0.9793609843222861\n",
            "Report:               precision    recall  f1-score   support\n",
            "\n",
            "           0       1.00      0.96      0.98      2365\n",
            "           1       0.97      1.00      0.98      2674\n",
            "\n",
            "    accuracy                           0.98      5039\n",
            "   macro avg       0.98      0.98      0.98      5039\n",
            "weighted avg       0.98      0.98      0.98      5039\n",
            "\n"
          ]
        }
      ]
    },
    {
      "cell_type": "code",
      "source": [],
      "metadata": {
        "id": "hfN02Kt-XJn0"
      },
      "execution_count": null,
      "outputs": []
    }
  ]
}